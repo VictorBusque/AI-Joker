{
 "cells": [
  {
   "cell_type": "markdown",
   "metadata": {
    "colab_type": "text",
    "id": "Fgb0qaSoDbxv"
   },
   "source": [
    "# PREPROCESSING"
   ]
  },
  {
   "cell_type": "code",
   "execution_count": 3,
   "metadata": {
    "colab": {},
    "colab_type": "code",
    "id": "8653vBpFQY0X"
   },
   "outputs": [],
   "source": [
    "RUN_NUM = \"JOKE_4\"\n",
    "glove_path = \"Models/glove.6B.100d.txt\""
   ]
  },
  {
   "cell_type": "code",
   "execution_count": 4,
   "metadata": {
    "colab": {},
    "colab_type": "code",
    "id": "eqFwsrXoDbxw"
   },
   "outputs": [],
   "source": [
    "import json\n",
    "\n",
    "with open(\"Data/reddit_jokes.json\", \"r\", encoding=\"utf8\") as f:\n",
    "    data = json.load(f)\n",
    "\n",
    "with open(\"Data/wocka.json\", \"r\", encoding=\"utf8\") as f:\n",
    "    data2 = json.load(f)"
   ]
  },
  {
   "cell_type": "code",
   "execution_count": 5,
   "metadata": {
    "colab": {},
    "colab_type": "code",
    "id": "2pCjVV--Dbx1"
   },
   "outputs": [],
   "source": [
    "import re\n",
    "import numpy as np"
   ]
  },
  {
   "cell_type": "code",
   "execution_count": 6,
   "metadata": {
    "colab": {},
    "colab_type": "code",
    "id": "xw5HIMUZYf6K",
    "outputId": "a221488b-2dc9-4e41-df77-25aaf874abb1"
   },
   "outputs": [
    {
     "name": "stdout",
     "output_type": "stream",
     "text": [
      "194553\n",
      "10019\n"
     ]
    }
   ],
   "source": [
    "print(len(data))\n",
    "print(len(data2))"
   ]
  },
  {
   "cell_type": "code",
   "execution_count": 7,
   "metadata": {
    "colab": {
     "base_uri": "https://localhost:8080/",
     "height": 34
    },
    "colab_type": "code",
    "executionInfo": {
     "elapsed": 1502,
     "status": "ok",
     "timestamp": 1586415677089,
     "user": {
      "displayName": "Víctor Busqué",
      "photoUrl": "https://lh3.googleusercontent.com/a-/AOh14Gh0qA2yRvq0dyHybmt72SB-pcGUWJt4nDcZn7eKGLc=s64",
      "userId": "15975433531376289761"
     },
     "user_tz": -120
    },
    "id": "5fUaqialDbx5",
    "outputId": "6fda40e7-522a-4e88-f4cf-44b19fdcec16"
   },
   "outputs": [
    {
     "data": {
      "text/plain": [
       "203567"
      ]
     },
     "execution_count": 7,
     "metadata": {},
     "output_type": "execute_result"
    }
   ],
   "source": [
    "import string\n",
    "\n",
    "scriptsSents = []\n",
    "for joke in data:\n",
    "    text = joke[\"title\"].rstrip() + ' ' + joke[\"body\"].rstrip()\n",
    "    if len([w for w in text.split() if w]) > 500: continue\n",
    "    for c in string.punctuation.replace(\"\\'\",''): text = text.replace(c,' ')\n",
    "    scriptsSents.append( ' '.join([w.lower() for w in text.split() if w]) )\n",
    "    \n",
    "for joke in data2:\n",
    "    text = joke[\"body\"].rstrip()\n",
    "    if len([w for w in text.split() if w]) > 500: continue\n",
    "    for c in string.punctuation.replace(\"\\'\",''): text = text.replace(c,' ')\n",
    "    scriptsSents.append( ' '.join([w.lower() for w in text.split() if w]) )\n",
    "    \n",
    "scripts = [sentence.split() for sentence in scriptsSents]\n",
    "scriptsLengths = [len(tokens) for tokens in scripts]\n",
    "len(scripts)"
   ]
  },
  {
   "cell_type": "code",
   "execution_count": 8,
   "metadata": {
    "colab": {},
    "colab_type": "code",
    "id": "FL-AMI0tYf6W",
    "outputId": "e51fd8c5-7b68-4179-9313-2f3045c9c205"
   },
   "outputs": [
    {
     "data": {
      "text/plain": [
       "['customer',\n",
       " 'are',\n",
       " 'you',\n",
       " 'hispanic',\n",
       " 'me',\n",
       " 'no',\n",
       " 'customer',\n",
       " 'middle',\n",
       " 'eastern',\n",
       " 'me',\n",
       " 'no',\n",
       " 'customer',\n",
       " 'egyptian',\n",
       " 'me',\n",
       " 'no',\n",
       " 'customer',\n",
       " 'what',\n",
       " 'are',\n",
       " 'you',\n",
       " 'me',\n",
       " 'chinese',\n",
       " 'customer',\n",
       " 'puts',\n",
       " 'on',\n",
       " 'offended',\n",
       " 'face',\n",
       " 'customer',\n",
       " 'i',\n",
       " \"don't\",\n",
       " 'appreciate',\n",
       " 'you',\n",
       " 'treating',\n",
       " 'me',\n",
       " 'like',\n",
       " \"i'm\",\n",
       " 'dumb',\n",
       " 'me',\n",
       " 'excuse',\n",
       " 'me',\n",
       " \"i'm\",\n",
       " 'being',\n",
       " 'honest',\n",
       " 'customer',\n",
       " 'no',\n",
       " 'chinese',\n",
       " 'person',\n",
       " 'would',\n",
       " 'ever',\n",
       " 'have',\n",
       " 'eyes',\n",
       " 'as',\n",
       " 'big',\n",
       " 'as',\n",
       " 'yours',\n",
       " 'me',\n",
       " 'mouth',\n",
       " 'wide',\n",
       " 'open']"
      ]
     },
     "execution_count": 8,
     "metadata": {},
     "output_type": "execute_result"
    }
   ],
   "source": [
    "scripts[-1]"
   ]
  },
  {
   "cell_type": "code",
   "execution_count": 9,
   "metadata": {
    "colab": {
     "base_uri": "https://localhost:8080/",
     "height": 34
    },
    "colab_type": "code",
    "executionInfo": {
     "elapsed": 609,
     "status": "ok",
     "timestamp": 1586415683140,
     "user": {
      "displayName": "Víctor Busqué",
      "photoUrl": "https://lh3.googleusercontent.com/a-/AOh14Gh0qA2yRvq0dyHybmt72SB-pcGUWJt4nDcZn7eKGLc=s64",
      "userId": "15975433531376289761"
     },
     "user_tz": -120
    },
    "id": "9WcAR08lDbyG",
    "outputId": "e6353585-ca48-45f5-d758-9b01433f5eea"
   },
   "outputs": [
    {
     "name": "stdout",
     "output_type": "stream",
     "text": [
      "['the', 'a', 'and', 'to', 'i', 'you', 'in', 'of', 'he', 'is', 'it', 'his', 'was', 'that', 'what', 'my', 'on', 'for', 'with', 'man']\n"
     ]
    }
   ],
   "source": [
    "from collections import Counter\n",
    "\n",
    "vocabulary = list([word for sentence in scripts for word in sentence])\n",
    "counts = Counter(vocabulary)\n",
    "vocabulary = [w for w,f in counts.items()]\n",
    "vocabulary.sort(key = lambda x: counts[x], reverse=True)\n",
    "vocabulary = vocabulary[:10000]\n",
    "print(vocabulary[:20])"
   ]
  },
  {
   "cell_type": "code",
   "execution_count": 10,
   "metadata": {
    "colab": {},
    "colab_type": "code",
    "id": "HBE7CzHGDbyL",
    "outputId": "2694d4fb-5143-4f33-d2fe-6886bd7806a2"
   },
   "outputs": [
    {
     "name": "stdout",
     "output_type": "stream",
     "text": [
      "['<pad>', '<unk>', '<endtoken>', 'the', 'a', 'and', 'to', 'i', 'you', 'in', 'of', 'he', 'is', 'it', 'his', 'was', 'that', 'what', 'my', 'on']\n",
      "10003\n"
     ]
    }
   ],
   "source": [
    "word2id = {w:i+3 for i,w in enumerate(vocabulary)}\n",
    "word2id[\"<pad>\"] = 0\n",
    "word2id[\"<unk>\"] = 1\n",
    "word2id[\"<endtoken>\"] = 2\n",
    "\n",
    "id2word = list(word2id.keys())\n",
    "id2word.sort(key=lambda x: word2id[x])\n",
    "print(id2word[:20])\n",
    "print(len(id2word))"
   ]
  },
  {
   "cell_type": "code",
   "execution_count": 11,
   "metadata": {
    "colab": {
     "base_uri": "https://localhost:8080/",
     "height": 299
    },
    "colab_type": "code",
    "executionInfo": {
     "elapsed": 900,
     "status": "ok",
     "timestamp": 1586415686108,
     "user": {
      "displayName": "Víctor Busqué",
      "photoUrl": "https://lh3.googleusercontent.com/a-/AOh14Gh0qA2yRvq0dyHybmt72SB-pcGUWJt4nDcZn7eKGLc=s64",
      "userId": "15975433531376289761"
     },
     "user_tz": -120
    },
    "id": "qghDtbI5DbyS",
    "outputId": "88bdb368-2014-48b8-e199-ada5f17e9159"
   },
   "outputs": [
    {
     "name": "stdout",
     "output_type": "stream",
     "text": [
      "Average length: 45.415209734387204\n",
      "Max length: 753\n"
     ]
    },
    {
     "data": {
      "image/png": "[encoded data removed]",
      "text/plain": [
       "<Figure size 432x288 with 1 Axes>"
      ]
     },
     "metadata": {
      "needs_background": "light"
     },
     "output_type": "display_data"
    }
   ],
   "source": [
    "%matplotlib inline\n",
    "import matplotlib.pyplot as plt\n",
    "print(f\"Average length: {sum(scriptsLengths)/len(scriptsLengths)}\")\n",
    "print(f\"Max length: {max(scriptsLengths)}\")\n",
    "plt.hist(scriptsLengths, bins=50)\n",
    "plt.show()"
   ]
  },
  {
   "cell_type": "code",
   "execution_count": 12,
   "metadata": {
    "colab": {},
    "colab_type": "code",
    "id": "yXpH2lOFYf6m",
    "outputId": "758826ab-7afb-4e26-ef02-63253c945c6b"
   },
   "outputs": [
    {
     "data": {
      "text/plain": [
       "0.7853777871658962"
      ]
     },
     "execution_count": 12,
     "metadata": {},
     "output_type": "execute_result"
    }
   ],
   "source": [
    "num_words = 50 #40 words each sentence\n",
    "sum([l < num_words for l in scriptsLengths])/len(scriptsLengths)"
   ]
  },
  {
   "cell_type": "code",
   "execution_count": 13,
   "metadata": {
    "colab": {},
    "colab_type": "code",
    "id": "kBiYvtlhDbyY"
   },
   "outputs": [],
   "source": [
    "xindexs, yindexs = [], []\n",
    "for i, wlist in enumerate(scripts):\n",
    "    xarray = np.zeros( (num_words+1))\n",
    "    numWords = len(wlist)\n",
    "    j = 0\n",
    "    for j, w in enumerate(wlist[:num_words-1]):\n",
    "        if w in word2id.keys(): xarray[j] = word2id[w]\n",
    "        else: xarray[j] = word2id[\"<unk>\"] \n",
    "    xarray[j+1] = word2id[\"<endtoken>\"]\n",
    "    yindexs.append([ [id] for id in xarray])\n",
    "    xindexs.append( xarray )"
   ]
  },
  {
   "cell_type": "code",
   "execution_count": 14,
   "metadata": {
    "colab": {},
    "colab_type": "code",
    "id": "RBqrHO_VDbyk"
   },
   "outputs": [],
   "source": [
    "xdata = np.array(xindexs)\n",
    "ydata = np.array(yindexs)\n",
    "x = xdata[:,:-1]\n",
    "y = ydata[:,1:,:]"
   ]
  },
  {
   "cell_type": "code",
   "execution_count": 15,
   "metadata": {
    "colab": {
     "base_uri": "https://localhost:8080/",
     "height": 122
    },
    "colab_type": "code",
    "executionInfo": {
     "elapsed": 712,
     "status": "ok",
     "timestamp": 1586415697160,
     "user": {
      "displayName": "Víctor Busqué",
      "photoUrl": "https://lh3.googleusercontent.com/a-/AOh14Gh0qA2yRvq0dyHybmt72SB-pcGUWJt4nDcZn7eKGLc=s64",
      "userId": "15975433531376289761"
     },
     "user_tz": -120
    },
    "id": "1ELpR0xmDbyp",
    "outputId": "d6c560ed-e73e-4243-bc9d-f770f8d2be60",
    "scrolled": true
   },
   "outputs": [
    {
     "name": "stdout",
     "output_type": "stream",
     "text": [
      "(203567, 50)\n",
      "(203567, 50, 1)\n",
      "\n",
      "[7.0, 594.0, 44.0, 8.0, 1579.0, 211.0, 87.0, 160.0, 1162.0, 1059.0, 104.0, 7.0, 27.0, 6.0, 87.0, 4422.0, 58.0, 8.0, 278.0, 1162.0, 3.0, 1171.0, 2.0, 0.0, 0.0, 0.0, 0.0, 0.0, 0.0, 0.0, 0.0, 0.0, 0.0, 0.0, 0.0, 0.0, 0.0, 0.0, 0.0, 0.0, 0.0, 0.0, 0.0, 0.0, 0.0, 0.0, 0.0, 0.0, 0.0, 0.0]\n",
      "[[594.0], [44.0], [8.0], [1579.0], [211.0], [87.0], [160.0], [1162.0], [1059.0], [104.0], [7.0], [27.0], [6.0], [87.0], [4422.0], [58.0], [8.0], [278.0], [1162.0], [3.0], [1171.0], [2.0], [0.0], [0.0], [0.0], [0.0], [0.0], [0.0], [0.0], [0.0], [0.0], [0.0], [0.0], [0.0], [0.0], [0.0], [0.0], [0.0], [0.0], [0.0], [0.0], [0.0], [0.0], [0.0], [0.0], [0.0], [0.0], [0.0], [0.0], [0.0]]\n"
     ]
    }
   ],
   "source": [
    "print(x.shape)\n",
    "print(y.shape)\n",
    "print()\n",
    "print(x[0].tolist())\n",
    "print(y[0].tolist())"
   ]
  },
  {
   "cell_type": "markdown",
   "metadata": {
    "colab_type": "text",
    "id": "ije8K68-Dby2"
   },
   "source": [
    "# MODEL\n"
   ]
  },
  {
   "cell_type": "code",
   "execution_count": 16,
   "metadata": {
    "colab": {},
    "colab_type": "code",
    "id": "D7L6nFiIDby2"
   },
   "outputs": [],
   "source": [
    "from tensorflow.keras.layers import Input, Embedding, LSTM, Dense, TimeDistributed\n",
    "from tensorflow.compat.v1.keras.layers import CuDNNLSTM\n",
    "from tensorflow.keras.models import Model, Sequential\n",
    "from tensorflow.keras.callbacks import TensorBoard, EarlyStopping\n",
    "import datetime"
   ]
  },
  {
   "cell_type": "code",
   "execution_count": 17,
   "metadata": {
    "colab": {},
    "colab_type": "code",
    "id": "WFBA3XUODby6",
    "outputId": "b0e78335-5a0b-48a5-d15f-9e8f002599cd"
   },
   "outputs": [
    {
     "name": "stdout",
     "output_type": "stream",
     "text": [
      "10003\n",
      "50\n"
     ]
    }
   ],
   "source": [
    "import tensorflow as tf\n",
    "\n",
    "# tf.config.list_physical_devices('GPU') # True/False\n",
    "\n",
    "vocabulary_size = len(word2id.keys())\n",
    "sentence_size = num_words\n",
    "\n",
    "batch_size = 128\n",
    "output_dim = 128\n",
    "\n",
    "print(vocabulary_size)\n",
    "print(sentence_size)"
   ]
  },
  {
   "cell_type": "code",
   "execution_count": null,
   "metadata": {
    "colab": {
     "base_uri": "https://localhost:8080/",
     "height": 34
    },
    "colab_type": "code",
    "executionInfo": {
     "elapsed": 15178,
     "status": "ok",
     "timestamp": 1586415727275,
     "user": {
      "displayName": "Víctor Busqué",
      "photoUrl": "https://lh3.googleusercontent.com/a-/AOh14Gh0qA2yRvq0dyHybmt72SB-pcGUWJt4nDcZn7eKGLc=s64",
      "userId": "15975433531376289761"
     },
     "user_tz": -120
    },
    "id": "dyvi9fvGnxco",
    "outputId": "dfcda9c2-2f6f-4204-ecda-5b06f8316977"
   },
   "outputs": [],
   "source": [
    "EMBEDDING_DIM = 100\n",
    "\n",
    "embeddings_index = {}\n",
    "f = open(glove_path, \"r\", encoding=\"utf8\")\n",
    "for line in f:\n",
    "    values = line.split()\n",
    "    word = values[0]\n",
    "    coefs = np.asarray(values[1:], dtype='float32')\n",
    "    embeddings_index[word] = coefs\n",
    "f.close()\n",
    "\n",
    "print('Found %s word vectors.' % len(embeddings_index))"
   ]
  },
  {
   "cell_type": "code",
   "execution_count": null,
   "metadata": {
    "colab": {
     "base_uri": "https://localhost:8080/",
     "height": 34
    },
    "colab_type": "code",
    "executionInfo": {
     "elapsed": 18896,
     "status": "ok",
     "timestamp": 1586387706276,
     "user": {
      "displayName": "Víctor Busqué",
      "photoUrl": "https://lh3.googleusercontent.com/a-/AOh14Gh0qA2yRvq0dyHybmt72SB-pcGUWJt4nDcZn7eKGLc=s64",
      "userId": "15975433531376289761"
     },
     "user_tz": -120
    },
    "id": "6cgqSSF_oJTP",
    "outputId": "742d4c8a-c1d0-47da-eb19-1ef94b6cb336",
    "scrolled": true
   },
   "outputs": [],
   "source": [
    "embedding_matrix = np.zeros((vocabulary_size, EMBEDDING_DIM))\n",
    "for word, i in word2id.items():\n",
    "    embedding_vector = embeddings_index.get(word)\n",
    "    if embedding_vector is not None:\n",
    "        # words not found in embedding index will be all-zeros.\n",
    "        embedding_matrix[i] = embedding_vector\n",
    "embedding_matrix[word2id[\"<unk>\"]] = np.random.random_sample((EMBEDDING_DIM,))\n",
    "print(embedding_matrix.shape)"
   ]
  },
  {
   "cell_type": "code",
   "execution_count": null,
   "metadata": {
    "colab": {},
    "colab_type": "code",
    "id": "k4aOla5UDbzD"
   },
   "outputs": [],
   "source": [
    "model = Sequential()\n",
    "model.add(Embedding(input_dim=vocabulary_size, output_dim=EMBEDDING_DIM, input_length=sentence_size, weights=[embedding_matrix], mask_zero=True, trainable=True))\n",
    "model.add(LSTM(units=256, recurrent_dropout=0.25, dropout=0.25, return_sequences=True))\n",
    "model.add(LSTM(units=256, recurrent_dropout=0.25, dropout=0.25, return_sequences=True))\n",
    "model.add(TimeDistributed(Dense(units=vocabulary_size, activation=\"softmax\")))"
   ]
  },
  {
   "cell_type": "code",
   "execution_count": 18,
   "metadata": {
    "colab": {
     "base_uri": "https://localhost:8080/",
     "height": 289
    },
    "colab_type": "code",
    "executionInfo": {
     "elapsed": 20049,
     "status": "ok",
     "timestamp": 1586387707524,
     "user": {
      "displayName": "Víctor Busqué",
      "photoUrl": "https://lh3.googleusercontent.com/a-/AOh14Gh0qA2yRvq0dyHybmt72SB-pcGUWJt4nDcZn7eKGLc=s64",
      "userId": "15975433531376289761"
     },
     "user_tz": -120
    },
    "id": "RwlW6PJeDbzG",
    "outputId": "7be67bdd-ee1a-4439-b086-8c89e5b77e53"
   },
   "outputs": [
    {
     "name": "stdout",
     "output_type": "stream",
     "text": [
      "Model: \"sequential\"\n",
      "_________________________________________________________________\n",
      "Layer (type)                 Output Shape              Param #   \n",
      "=================================================================\n",
      "embedding (Embedding)        (None, 50, 100)           1000300   \n",
      "_________________________________________________________________\n",
      "lstm (LSTM)                  (None, 50, 256)           365568    \n",
      "_________________________________________________________________\n",
      "lstm_1 (LSTM)                (None, 50, 256)           525312    \n",
      "_________________________________________________________________\n",
      "time_distributed (TimeDistri (None, 50, 10003)         2570771   \n",
      "=================================================================\n",
      "Total params: 4,461,951\n",
      "Trainable params: 4,461,951\n",
      "Non-trainable params: 0\n",
      "_________________________________________________________________\n"
     ]
    }
   ],
   "source": [
    "from tensorflow.keras.optimizers import Adam\n",
    "\n",
    "optimizer = Adam()\n",
    "model.compile(optimizer=optimizer, loss=\"sparse_categorical_crossentropy\", metrics=[\"accuracy\"])\n",
    "model.summary()"
   ]
  },
  {
   "cell_type": "code",
   "execution_count": 19,
   "metadata": {
    "colab": {},
    "colab_type": "code",
    "id": "w9xSgC3eDbzJ"
   },
   "outputs": [],
   "source": [
    "%load_ext tensorboard\n",
    "log_dir = \"logs\\\\fit\\\\\" + datetime.datetime.now().strftime(\"%Y%m%d-%H%M%S\")\n",
    "tensorboard_callback = TensorBoard(log_dir=log_dir, histogram_freq=1)\n",
    "earlystopping_callback = EarlyStopping(patience=5)"
   ]
  },
  {
   "cell_type": "code",
   "execution_count": 25,
   "metadata": {
    "colab": {},
    "colab_type": "code",
    "id": "vx7_4oMqDbzL"
   },
   "outputs": [
    {
     "name": "stdout",
     "output_type": "stream",
     "text": [
      "Train on 173031 samples, validate on 30536 samples\n",
      "Epoch 1/15\n",
      "173031/173031 [==============================] - 384s 2ms/sample - loss: 1.9144 - accuracy: 0.3048 - val_loss: 2.6002 - val_accuracy: 0.2864\n",
      "Epoch 2/15\n",
      "173031/173031 [==============================] - 326s 2ms/sample - loss: 1.9052 - accuracy: 0.3062 - val_loss: 2.6049 - val_accuracy: 0.2849\n",
      "Epoch 3/15\n",
      "173031/173031 [==============================] - 325s 2ms/sample - loss: 1.8963 - accuracy: 0.3077 - val_loss: 2.5892 - val_accuracy: 0.2882\n",
      "Epoch 4/15\n",
      "173031/173031 [==============================] - 325s 2ms/sample - loss: 1.8883 - accuracy: 0.3090 - val_loss: 2.5858 - val_accuracy: 0.2887\n",
      "Epoch 5/15\n",
      "173031/173031 [==============================] - 323s 2ms/sample - loss: 1.8810 - accuracy: 0.3103 - val_loss: 2.5799 - val_accuracy: 0.2899\n",
      "Epoch 6/15\n",
      "173031/173031 [==============================] - 328s 2ms/sample - loss: 1.8738 - accuracy: 0.3117 - val_loss: 2.5779 - val_accuracy: 0.2903\n",
      "Epoch 7/15\n",
      "173031/173031 [==============================] - 325s 2ms/sample - loss: 1.8673 - accuracy: 0.3127 - val_loss: 2.5698 - val_accuracy: 0.2915\n",
      "Epoch 8/15\n",
      "173031/173031 [==============================] - 325s 2ms/sample - loss: 1.8611 - accuracy: 0.3137 - val_loss: 2.5708 - val_accuracy: 0.2917\n",
      "Epoch 9/15\n",
      "173031/173031 [==============================] - 324s 2ms/sample - loss: 1.8552 - accuracy: 0.3147 - val_loss: 2.5665 - val_accuracy: 0.2921\n",
      "Epoch 10/15\n",
      "173031/173031 [==============================] - 323s 2ms/sample - loss: 1.8498 - accuracy: 0.3159 - val_loss: 2.5598 - val_accuracy: 0.2933\n",
      "Epoch 11/15\n",
      "173031/173031 [==============================] - 323s 2ms/sample - loss: 1.8445 - accuracy: 0.3165 - val_loss: 2.5625 - val_accuracy: 0.2934\n",
      "Epoch 12/15\n",
      "173031/173031 [==============================] - 323s 2ms/sample - loss: 1.8393 - accuracy: 0.3173 - val_loss: 2.5569 - val_accuracy: 0.2944\n",
      "Epoch 13/15\n",
      "173031/173031 [==============================] - 323s 2ms/sample - loss: 1.8349 - accuracy: 0.3183 - val_loss: 2.5549 - val_accuracy: 0.2945\n",
      "Epoch 14/15\n",
      "173031/173031 [==============================] - 323s 2ms/sample - loss: 1.8304 - accuracy: 0.3190 - val_loss: 2.5436 - val_accuracy: 0.2969\n",
      "Epoch 15/15\n",
      "173031/173031 [==============================] - 322s 2ms/sample - loss: 1.8259 - accuracy: 0.3198 - val_loss: 2.5468 - val_accuracy: 0.2962\n"
     ]
    },
    {
     "data": {
      "text/plain": [
       "<tensorflow.python.keras.callbacks.History at 0x2041ac39780>"
      ]
     },
     "execution_count": 25,
     "metadata": {},
     "output_type": "execute_result"
    }
   ],
   "source": [
    "model.fit(x=x, y=y, batch_size=batch_size, epochs=15, validation_split=.15, callbacks=[tensorboard_callback])"
   ]
  },
  {
   "cell_type": "code",
   "execution_count": 26,
   "metadata": {
    "colab": {},
    "colab_type": "code",
    "id": "QQAG0jxlDbzO"
   },
   "outputs": [],
   "source": [
    "RUN_NUM = \"JOKE_5\"\n",
    "\n",
    "model.save(f\"Models/model_{RUN_NUM}.h5\")\n",
    "import json\n",
    "\n",
    "with open(f\"Mappings/word2id_{RUN_NUM}.json\", \"w\", encoding=\"utf8\") as f:\n",
    "    json.dump(word2id, f, indent=4)"
   ]
  },
  {
   "cell_type": "markdown",
   "metadata": {
    "colab_type": "text",
    "id": "vir1PF_0DbzV"
   },
   "source": [
    "# PREDICTIONS"
   ]
  },
  {
   "cell_type": "code",
   "execution_count": 1,
   "metadata": {
    "colab": {},
    "colab_type": "code",
    "id": "bQdHoA03Qzrz"
   },
   "outputs": [],
   "source": [
    "RUN_NUM = \"JOKE_3\"\n",
    "PREFIX = \"\"#\"/content/drive/My Drive/Colab Notebooks/Language Modelling/\""
   ]
  },
  {
   "cell_type": "code",
   "execution_count": 2,
   "metadata": {
    "colab": {
     "base_uri": "https://localhost:8080/",
     "height": 54
    },
    "colab_type": "code",
    "executionInfo": {
     "elapsed": 8136,
     "status": "ok",
     "timestamp": 1586463153769,
     "user": {
      "displayName": "Víctor Busqué",
      "photoUrl": "https://lh3.googleusercontent.com/a-/AOh14Gh0qA2yRvq0dyHybmt72SB-pcGUWJt4nDcZn7eKGLc=s64",
      "userId": "15975433531376289761"
     },
     "user_tz": -120
    },
    "id": "fUQdpOn6DbzV",
    "outputId": "ba76a55b-745c-4710-caf2-7d9512143af3"
   },
   "outputs": [],
   "source": [
    "from tensorflow.keras.models import load_model\n",
    "import json\n",
    "import numpy as np\n",
    "with open(PREFIX+f\"Mappings/word2id_{RUN_NUM}.json\", \"r\", encoding=\"utf8\") as f:\n",
    "    word2id = json.load(f)\n",
    "model = load_model(PREFIX+f\"Models/model_{RUN_NUM}.h5\")"
   ]
  },
  {
   "cell_type": "code",
   "execution_count": null,
   "metadata": {
    "colab": {},
    "colab_type": "code",
    "id": "AuZ0uwJcDbzY"
   },
   "outputs": [],
   "source": [
    "id2word = list(word2id.keys())\n",
    "id2word.sort(key=lambda x: word2id[x])"
   ]
  },
  {
   "cell_type": "code",
   "execution_count": null,
   "metadata": {
    "colab": {},
    "colab_type": "code",
    "id": "uW7FfNtDDbzb"
   },
   "outputs": [],
   "source": [
    "vocabulary_size = len(word2id.keys())\n",
    "sentence_size = 50\n",
    "\n",
    "batch_size = 256\n",
    "output_dim = 64"
   ]
  },
  {
   "cell_type": "code",
   "execution_count": 22,
   "metadata": {
    "colab": {},
    "colab_type": "code",
    "id": "Nr2ie7IkDbzd"
   },
   "outputs": [],
   "source": [
    "def getData(partialString=\"\"):\n",
    "    partialString = partialString.lower()\n",
    "    x1 = [ word2id[word] if word in word2id.keys() else word2id[\"<unk>\"] for word in partialString.split() ]\n",
    "    # x1.append(word2id[\"<endtoken>\"])\n",
    "    while len(x1) < sentence_size: x1.append(word2id[\"<pad>\"])\n",
    "    x1 = np.array(x1)\n",
    "    return x1\n",
    "\n",
    "def getNextWord(sentence, printing=False):\n",
    "    nw = len(sentence.split()) #from 0 to nw-1\n",
    "    if printing: print(f\"sentence \\\"{sentence}\\\" has {nw} words.\")\n",
    "    x1 = getData(sentence)\n",
    "    #if printing: print(f\"sentence has {x1} representation\")\n",
    "    preds = model.predict( np.array([x1]) )[0] #get predictions for the nwth word\n",
    "    #if printing: print(f\"the whole sentence preds are: {np.argmax(preds, axis=-1)}\")\n",
    "    preds = preds[nw-1] # take next word index from the current word\n",
    "    argmax = np.argmax(preds)\n",
    "    # if printing: print(f\"The word with the highest probability is idx {argmax}\")\n",
    "    prob = preds[argmax]\n",
    "    answer = id2word[argmax]\n",
    "    if printing: print(f\"The 1st most probable word is \\\"{answer}\\\" with prob: {prob}\")\n",
    "    if printing: print(f\"The 2nd most probable word is \\\"{id2word[np.argsort(preds)[-2]]}\\\" with prob: {preds[np.argsort(preds)[-2]]}\")\n",
    "    if printing: print(f\"The 3rd most probable word is \\\"{id2word[np.argsort(preds)[-3]]}\\\" with prob: {preds[np.argsort(preds)[-2]]}\")\n",
    "    if answer == \"<unk>\": answer = id2word[np.argsort(preds)[-2]]\n",
    "    return answer, prob, argmax"
   ]
  },
  {
   "cell_type": "code",
   "execution_count": 24,
   "metadata": {
    "colab": {
     "base_uri": "https://localhost:8080/",
     "height": 34
    },
    "colab_type": "code",
    "executionInfo": {
     "elapsed": 4595,
     "status": "ok",
     "timestamp": 1586463404527,
     "user": {
      "displayName": "Víctor Busqué",
      "photoUrl": "https://lh3.googleusercontent.com/a-/AOh14Gh0qA2yRvq0dyHybmt72SB-pcGUWJt4nDcZn7eKGLc=s64",
      "userId": "15975433531376289761"
     },
     "user_tz": -120
    },
    "id": "9-iO64xeDbzf",
    "outputId": "5c9988bb-1d3e-49e1-90dc-17e3a4d5cd60"
   },
   "outputs": [
    {
     "name": "stdout",
     "output_type": "stream",
     "text": [
      "We got: what is the difference between a chickpea and a garbanzo bean i've never had a garbanzo bean on my face\n"
     ]
    }
   ],
   "source": [
    "txt = \"what is the\"\n",
    "# print(getData(txt))\n",
    "nextWord = \"\"\n",
    "while True:\n",
    "    nextWord,_,_ = getNextWord(txt)\n",
    "    if nextWord == \"<endtoken>\": break\n",
    "    txt += ' ' + nextWord\n",
    "    if len(txt.split())+1 >= sentence_size-1: break\n",
    "print(\"We got: \" + txt)"
   ]
  },
  {
   "cell_type": "code",
   "execution_count": null,
   "metadata": {
    "colab": {},
    "colab_type": "code",
    "id": "u4cBsIHs-igJ"
   },
   "outputs": [],
   "source": []
  }
 ],
 "metadata": {
  "colab": {
   "collapsed_sections": [],
   "name": "processJokes.ipynb",
   "provenance": [],
   "toc_visible": true
  },
  "file_extension": ".py",
  "kernelspec": {
   "display_name": "Python 3",
   "language": "python",
   "name": "python3"
  },
  "language_info": {
   "codemirror_mode": {
    "name": "ipython",
    "version": 3
   },
   "file_extension": ".py",
   "mimetype": "text/x-python",
   "name": "python",
   "nbconvert_exporter": "python",
   "pygments_lexer": "ipython3",
   "version": "3.7.3"
  },
  "mimetype": "text/x-python",
  "name": "python",
  "npconvert_exporter": "python",
  "pygments_lexer": "ipython3",
  "version": 3
 },
 "nbformat": 4,
 "nbformat_minor": 1
}
