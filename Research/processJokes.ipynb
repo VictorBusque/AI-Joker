{
 "cells": [
  {
   "cell_type": "markdown",
   "metadata": {
    "colab_type": "text",
    "id": "Fgb0qaSoDbxv"
   },
   "source": [
    "# PREPROCESSING"
   ]
  },
  {
   "cell_type": "code",
   "execution_count": 1,
   "metadata": {
    "colab": {},
    "colab_type": "code",
    "id": "8653vBpFQY0X"
   },
   "outputs": [],
   "source": [
    "RUN_NUM = \"JOKE_4\"\n",
    "glove_path = \"Models/glove.6B.100d.txt\""
   ]
  },
  {
   "cell_type": "code",
   "execution_count": 2,
   "metadata": {
    "colab": {},
    "colab_type": "code",
    "id": "eqFwsrXoDbxw"
   },
   "outputs": [],
   "source": [
    "import json\n",
    "\n",
    "with open(\"Data/reddit_jokes.json\", \"r\", encoding=\"utf8\") as f:\n",
    "    data = json.load(f)\n",
    "\n",
    "with open(\"Data/wocka.json\", \"r\", encoding=\"utf8\") as f:\n",
    "    data2 = json.load(f)"
   ]
  },
  {
   "cell_type": "code",
   "execution_count": 3,
   "metadata": {
    "colab": {},
    "colab_type": "code",
    "id": "2pCjVV--Dbx1"
   },
   "outputs": [],
   "source": [
    "import re\n",
    "import numpy as np"
   ]
  },
  {
   "cell_type": "code",
   "execution_count": 4,
   "metadata": {
    "colab": {},
    "colab_type": "code",
    "id": "xw5HIMUZYf6K",
    "outputId": "a221488b-2dc9-4e41-df77-25aaf874abb1"
   },
   "outputs": [
    {
     "output_type": "stream",
     "name": "stdout",
     "text": [
      "194553\n10019\n"
     ]
    }
   ],
   "source": [
    "print(len(data))\n",
    "print(len(data2))"
   ]
  },
  {
   "cell_type": "code",
   "execution_count": 5,
   "metadata": {
    "colab": {
     "base_uri": "https://localhost:8080/",
     "height": 34
    },
    "colab_type": "code",
    "executionInfo": {
     "elapsed": 1502,
     "status": "ok",
     "timestamp": 1586415677089,
     "user": {
      "displayName": "Víctor Busqué",
      "photoUrl": "https://lh3.googleusercontent.com/a-/AOh14Gh0qA2yRvq0dyHybmt72SB-pcGUWJt4nDcZn7eKGLc=s64",
      "userId": "15975433531376289761"
     },
     "user_tz": -120
    },
    "id": "5fUaqialDbx5",
    "outputId": "6fda40e7-522a-4e88-f4cf-44b19fdcec16"
   },
   "outputs": [
    {
     "output_type": "execute_result",
     "data": {
      "text/plain": [
       "203567"
      ]
     },
     "metadata": {},
     "execution_count": 5
    }
   ],
   "source": [
    "import string\n",
    "\n",
    "scriptsSents = []\n",
    "for joke in data:\n",
    "    text = joke[\"title\"].rstrip() + ' ' + joke[\"body\"].rstrip()\n",
    "    if len([w for w in text.split() if w]) > 500: continue\n",
    "    for c in string.punctuation.replace(\"\\'\",''): text = text.replace(c,' ')\n",
    "    scriptsSents.append( ' '.join([w.lower() for w in text.split() if w]) )\n",
    "    \n",
    "for joke in data2:\n",
    "    text = joke[\"body\"].rstrip()\n",
    "    if len([w for w in text.split() if w]) > 500: continue\n",
    "    for c in string.punctuation.replace(\"\\'\",''): text = text.replace(c,' ')\n",
    "    scriptsSents.append( ' '.join([w.lower() for w in text.split() if w]) )\n",
    "    \n",
    "scripts = [sentence.split() for sentence in scriptsSents]\n",
    "scriptsLengths = [len(tokens) for tokens in scripts]\n",
    "len(scripts)"
   ]
  },
  {
   "cell_type": "code",
   "execution_count": 6,
   "metadata": {
    "colab": {},
    "colab_type": "code",
    "id": "FL-AMI0tYf6W",
    "outputId": "e51fd8c5-7b68-4179-9313-2f3045c9c205"
   },
   "outputs": [
    {
     "output_type": "execute_result",
     "data": {
      "text/plain": [
       "['customer',\n",
       " 'are',\n",
       " 'you',\n",
       " 'hispanic',\n",
       " 'me',\n",
       " 'no',\n",
       " 'customer',\n",
       " 'middle',\n",
       " 'eastern',\n",
       " 'me',\n",
       " 'no',\n",
       " 'customer',\n",
       " 'egyptian',\n",
       " 'me',\n",
       " 'no',\n",
       " 'customer',\n",
       " 'what',\n",
       " 'are',\n",
       " 'you',\n",
       " 'me',\n",
       " 'chinese',\n",
       " 'customer',\n",
       " 'puts',\n",
       " 'on',\n",
       " 'offended',\n",
       " 'face',\n",
       " 'customer',\n",
       " 'i',\n",
       " \"don't\",\n",
       " 'appreciate',\n",
       " 'you',\n",
       " 'treating',\n",
       " 'me',\n",
       " 'like',\n",
       " \"i'm\",\n",
       " 'dumb',\n",
       " 'me',\n",
       " 'excuse',\n",
       " 'me',\n",
       " \"i'm\",\n",
       " 'being',\n",
       " 'honest',\n",
       " 'customer',\n",
       " 'no',\n",
       " 'chinese',\n",
       " 'person',\n",
       " 'would',\n",
       " 'ever',\n",
       " 'have',\n",
       " 'eyes',\n",
       " 'as',\n",
       " 'big',\n",
       " 'as',\n",
       " 'yours',\n",
       " 'me',\n",
       " 'mouth',\n",
       " 'wide',\n",
       " 'open']"
      ]
     },
     "metadata": {},
     "execution_count": 6
    }
   ],
   "source": [
    "scripts[-1]"
   ]
  },
  {
   "cell_type": "code",
   "execution_count": 8,
   "metadata": {
    "colab": {
     "base_uri": "https://localhost:8080/",
     "height": 34
    },
    "colab_type": "code",
    "executionInfo": {
     "elapsed": 609,
     "status": "ok",
     "timestamp": 1586415683140,
     "user": {
      "displayName": "Víctor Busqué",
      "photoUrl": "https://lh3.googleusercontent.com/a-/AOh14Gh0qA2yRvq0dyHybmt72SB-pcGUWJt4nDcZn7eKGLc=s64",
      "userId": "15975433531376289761"
     },
     "user_tz": -120
    },
    "id": "9WcAR08lDbyG",
    "outputId": "e6353585-ca48-45f5-d758-9b01433f5eea",
    "tags": [
     "outputPrepend"
    ]
   },
   "outputs": [
    {
     "output_type": "stream",
     "name": "stdout",
     "text": [
      "each': 1, \"leach's\": 1, \"niagara's\": 1, 'ungainly': 1, \"barrel's\": 1, 'reston': 1, 'accotink': 1, 'fairfax': 1, 'f350': 1, 'suisun': 1, 'reclassified': 1, 'unidentifyed': 1, 'chã¨res': 1, 'lã©chã¨rent': 1, 'seminoles': 1, 'vanden': 1, 'visioning': 1, 'pertection': 1, 'bafflement': 1, \"argument's\": 1, 'experimemt': 1, 'exeunt': 1, 'å¥³ï¼\\x8cæ\\x8a±ç\\x9d\\x80å\\xad©å\\xad\\x90': 1, 'è°\\x83ä¾\\x83': 1, 'sorcer': 1, 'ç¬\\x91ï¼\\x8cç\\x84¶å\\x90\\x8eé\\x97®': 1, 'ç\\x88\\x86ç¬\\x91': 1, 'cshe': 1, '13a': 1, 'weibull': 1, '46y': 1, '34x': 1, \"nowadays'\": 1, 'ecnalg': 1, 'ababaaabbbbaaaabbbbababaabbaaabbbb': 1, 'knief': 1, 'sonnawabicth': 1, 'simmering': 1, \"bringin'\": 1, '280z': 1, 'lgx': 1, 'lg0': 1, 'tttttttttt': 1, 'prematurly': 1, \"1992's\": 1, 'overflown': 1, 'almondine': 1, \"'before'\": 1, 'yfed': 1, \"mae'r\": 1, 'gwartheg': 1, 'cachi': 1, 'onewarde': 1, 'bahing': 1, \"x'tra\": 1, 'freebees': 1, 'kiasee': 1, 'yau': 1, 'qwee': 1, 'chico': 1, 'ionia': 1, 'spyware': 1, 'computeruser': 1, 'bugless': 1, 'marketingstaff': 1, 'worldpress': 1, '8086': 1, 'skyhigh': 1, 'memorychip': 1, 'megs': 1, 'fatware': 1, 'bugfree': 1, 'megabucks': 1, 'compagny': 1, 'billware': 1, 'correspondant': 1, 'blocky': 1, 'disqualify': 1, 'replicates': 1, 'embellish': 1, 'honcho': 1, 'ellison': 1, 'omentous': 1, 'torage': 1, 'spokespeople': 1, 'novell': 1, 'godfried': 1, 'throng': 1, 'spomdalucci': 1, 'carrne': 1, 'win95': 1, '005': 1, 'desqview': 1, '00b': 1, '50mb': 1, '00c': 1, '00d': 1, '00e': 1, '00f': 1, '011': 1, '013': 1, '014': 1, '018': 1, 'unrecoverable': 1, '019': 1, '01a': 1, 'overwritten': 1, '01b': 1, '01c': 1, '01d': 1, '01e': 1, '01f': 1, '042': 1, '079': 1, '683': 1, '815': 1, 'æ±¤å§\\x86æ\\x95\\x99æ\\x8e\\x88æ\\x9c\\x89äº\\x8bï¼\\x8cæ\\x97': 1, 'æ³\\x95æ\\x95\\x99ä¸\\x8bå\\x8d\\x88ç\\x9a\\x84è¯¾ã\\x80\\x82äº\\x8eæ\\x98¯å\\x8e»æ\\x95\\x99å®¤é»\\x91æ\\x9d¿ä¸\\x8aå\\x86\\x99äº\\x86ä¸ªé\\x80\\x9aç\\x9f¥ï¼\\x9a': 1, 'æ\\x9c\\x89ä¸ªè°\\x83ç\\x9a®ç\\x9a\\x84å\\xad¦ç\\x94\\x9fç\\x9c\\x8bå\\x88°å\\x90\\x8eï¼\\x8cæ\\x83³è·\\x9fæ\\x95\\x99æ\\x8e\\x88å¼\\x80ä¸ªç\\x8e©ç¬\\x91ï¼\\x8cæ\\x8a\\x8aclasseså\\x89\\x8dé\\x9d¢ç\\x9a\\x84cæ\\x93¦': 1, 'æ\\x8e\\x89äº\\x86ã\\x80\\x82': 1, 'æ±¤å§\\x86æ\\x95\\x99æ\\x8e\\x88ä¸\\xadå\\x8d\\x88è·¯è¿\\x87æ\\x95\\x99å®¤æ\\x97¶å\\x8f\\x88é¡ºè·¯è¿\\x9bå\\x8e»äº\\x86ä¸\\x80ä¸\\x8bï¼\\x8cå¿\\x8dä¸\\x8dä½\\x8fç¬\\x91äº\\x86ï¼\\x8cé\\x9a\\x8fæ\\x89\\x8bå\\x8f\\x88': 1, 'æ\\x93¦æ\\x8e\\x89äº\\x86lã\\x80\\x82': 1, 'umfriendï¼\\x88å\\x97¯æ\\x9c\\x8bå\\x8f\\x8bï¼\\x89æ\\x98¯ä¸\\x80å\\x80\\x8bæ\\x96°å\\xad\\x97ï¼\\x8cæ\\x9c\\x80è¿\\x91å·²ç¶\\x93è¢«æ\\x94¾é\\x80²ç¾\\x8eå\\x9c\\x8bå\\xad\\x97å': 1, '¸ç\\x9a\\x84ç\\x94¨å\\xad\\x97ã\\x80\\x82': 1, 'å®\\x83æ\\x98¯ä¸\\x80å\\x80\\x8bå\\x90\\x8dè©\\x9eï¼\\x8cæ\\x84\\x8fæ\\x80\\x9dæ\\x98¯ã\\x80\\x8cæ\\x9c\\x89æ\\x9b\\x96æ\\x98§ä¸\\x8dæ\\x98\\x8eæ\\x88\\x96ä¸\\x8då\\x8f¯å\\x91\\x8aäººé\\x97\\x9cä¿\\x82ç\\x9a\\x84æ\\x9c\\x8bå\\x8f\\x8bã\\x80\\x8dã\\x80\\x82': 1, 'å®\\x83ç\\x9a\\x84èµ·æº\\x90å¾\\x88æ\\x9c\\x89è¶£ï¼\\x9a': 1, 'å\\x81\\x87è¨\\xadæ\\x9c\\x89é\\x80\\x99æ¨£ä¸\\x80å\\x80\\x8bæ\\x83': 1, 'å¢\\x83ï¼\\x8cä½': 1, 'å¸¶ä¸\\x80å\\x80\\x8bæ\\x9c\\x8bå\\x8f\\x8bå\\x9b\\x9eä½\\x8fè\\x99\\x95ï¼\\x8cä½': 1, 'å\\x80\\x91ç\\x95¶å¤©æ\\x99\\x9aä¸\\x8aç\\x99¼ç\\x94\\x9fäº\\x86æ\\x80§é\\x97\\x9cä¿\\x82ï¼\\x8c': 1, 'å®\\x8cäº\\x8bä¹\\x8bå¾\\x8cï¼\\x88æ\\x88\\x96è\\x80': 1, 'å°\\x9aæ\\x9cªå®\\x8cäº\\x8bï¼\\x89ï¼\\x8cä½': 1, 'å®¤å\\x8f\\x8bï¼\\x88æ\\x88\\x96å®¶äººï¼\\x89å\\x9b\\x9eä¾\\x86æ\\x92\\x9eè¦\\x8bä½': 1, 'å\\x80\\x91å': 1, '©å\\x80\\x8bï¼\\x8eï¼\\x8eï¼\\x8e': 1, 'å\\x9b': 1, 'ç\\x82ºï¼\\x8cä½': 1, 'å\\x80\\x91ä¸\\x8dæ\\x83³è®\\x93å\\x88¥äººç\\x9f¥é\\x81\\x93ä½': 1, 'å\\x80\\x91ç\\x9a\\x84é\\x97\\x9cä¿\\x82ï¼\\x8c': 1, 'æ\\x89\\x80ä»¥ï¼\\x8cä½': 1, 'å\\x80\\x91å\\x8f¯è\\x83½é\\x82\\x84æ»¿ç¥\\x9eè\\x89²æ': 1, '\\x8cå¼µç\\x9a\\x84ï¼\\x88æ\\x88\\x96è\\x91\\x97è¡£è¡«ä¸\\x8dæ\\x95´ï¼\\x89ã\\x80\\x82': 1, 'å®¤å\\x8f\\x8bæ\\x88\\x96å®¶äººå\\x8f¯è\\x83½ç\\x94¨è\\x91\\x97æ\\x87·ç\\x96\\x91ç\\x9a\\x84ç\\x9c¼å': 1, '\\x89æ\\x89\\x93é\\x87\\x8fè\\x91\\x97ä½': 1, 'å\\x80\\x91ï¼\\x8c': 1, 'å¿\\x83è\\x99\\x9bç\\x9a\\x84ä½': 1, 'ç\\x82ºäº\\x86è®\\x93é\\x80\\x99ç¨®å°·å°¬å': 1, '´é\\x9d¢è¶\\x95å¿«é\\x81\\x8eå\\x8e»ï¼\\x8c': 1, 'å\\x8fªå¥½è¶\\x95å¿«æ\\x8a\\x8aé\\x80\\x99ä½\\x8dæ\\x9c\\x8bå\\x8f\\x8bä»\\x8bç´¹ä¸\\x80ä¸\\x8bï¼\\x88è¬\\x9bæ\\x99\\x82é\\x82\\x84æ\\x9c\\x89é»\\x9eæ\\x94¯æ\\x94¯å\\x90¾å\\x90¾ï¼\\x89': 1, 'ã\\x80\\x8cdad': 1, 'friendã\\x80\\x8d': 1, 'æ\\x96¼æ\\x98¯ï¼\\x8cæ\\x94¯å\\x90¾è©\\x9e': 1, 'umï¼\\x8cå\\x8a': 1, 'ä¸\\x8aå¾\\x8cé\\x9d¢ç\\x9a\\x84friendï¼\\x8cå°±è¢«å\\x90\\x88èµ·ä¾\\x86ç\\x94¨æ\\x88\\x90äº\\x86ä¸\\x80å\\x80\\x8bæ\\x96°å\\xad\\x97ã\\x80\\x82': 1, 'ä¸\\x8dæ\\x98¯è¶': 1, 'äººã\\x80\\x82': 1, 'ã\\x80\\x80ã\\x80\\x802': 1, 'worksï¼\\x8cit': 1, 'ã\\x80\\x80ã\\x80\\x80å¦\\x82æ\\x9e\\x9cä¸\\x80ä¸ªè': 1, '¢æ\\x96¹æ³\\x95æ\\x9c\\x89æ\\x95\\x88ï¼\\x8cé\\x82£å®\\x83å°±ä¸\\x8dæ\\x98¯ä¸\\x80ä¸ªè': 1, '¢æ\\x96¹æ³\\x95ã\\x80\\x82': 1, 'ã\\x80\\x80ã\\x80\\x803': 1, 'ã\\x80\\x80ã\\x80\\x80ä¸\\x8dè¦\\x81å¤ªæ\\x98¾ç\\x9c¼ï¼\\x8cå\\x9b': 1, 'ä¸ºé\\x82£ä¼\\x9aå¼\\x95äººæ\\x94»å\\x87»ã\\x80\\x82ï¼\\x88è¿\\x99å°±æ\\x98¯è\\x88ªç©ºæ¯\\x8dè\\x88°è¢«ç§°ä¸º': 1, 'ç\\x82¸å¼¹ç£\\x81é\\x93\\x81': 1, 'ç\\x9a\\x84å\\x8e\\x9få\\x9b': 1, 'ã\\x80\\x82ï¼\\x89': 1, 'ã\\x80\\x80ã\\x80\\x804': 1, 'doubtï¼\\x8cempty': 1, 'ã\\x80\\x80ã\\x80\\x80æ\\x9c\\x89é\\x97®é¢\\x98æ\\x97¶ï¼\\x8cæ¸': 1, 'ç©ºä½': 1, 'ç\\x9a\\x84å¼¹å\\x8c£ã\\x80\\x82': 1, 'ã\\x80\\x805': 1, 'ã\\x80\\x80ã\\x80\\x80å\\x88«å\\x92\\x8cæ¯\\x94ä½': 1, 'å\\x8b\\x87æ\\x95¢ç\\x9a\\x84æ\\x88\\x98å\\x8f\\x8bèº²å\\x9c¨å\\x90\\x8cä¸\\x80ä¸ªå¼¹å\\x9d\\x91é\\x87\\x8cã\\x80\\x82': 1, 'ã\\x80\\x806': 1, 'ã\\x80\\x80ã\\x80\\x80å\\x88«å¿\\x98äº\\x86ä½': 1, 'æ\\x89\\x8bä¸\\x8aç\\x9a\\x84æ\\xad¦å\\x99¨æ\\x98¯ç\\x94±æ\\x9c\\x80ä½\\x8eä»·ç\\x9a\\x84æ\\x89¿å\\x8c': 1, 'å\\x95\\x86å¾\\x97æ': 1, '\\x87å\\x88¶é\\x80': 1, 'ç\\x9a\\x84ã\\x80\\x82': 1, 'ã\\x80\\x80ã\\x80\\x807': 1, \"wellï¼\\x8cit's\": 1, 'ç\\x9a\\x84æ\\x94»å\\x87»è¿\\x9bè¡\\x8cå¾\\x97å¾\\x88é¡ºå\\x88©ï¼\\x8cé\\x82£ä¸\\x80å®\\x9aæ\\x98¯ä½': 1, 'ä¸\\xadäº\\x86å\\x9c\\x88å¥\\x97ã\\x80\\x82': 1, 'ã\\x80\\x80ã\\x80\\x808': 1, 'ã\\x80\\x80ã\\x80\\x80æ²¡æ\\x9c\\x89ä»»ä½\\x95è®¡å\\x88\\x92è\\x83½å\\x9c¨é\\x81\\x87æ\\x95\\x8cå\\x90\\x8eç»§ç»\\xadæ\\x89§è¡\\x8cã\\x80\\x82': 1, 'ã\\x80\\x80ã\\x80\\x809': 1, 'ã\\x80\\x80ã\\x80\\x80æ\\x89\\x80æ\\x9c\\x89äº\\x94ç§\\x92ç\\x9a\\x84æ\\x89\\x8bæ¦´å¼¹å¼\\x95çº¿é\\x83½ä¼\\x9aå\\x9c¨ä¸\\x89ç§\\x92å\\x86': 1, 'ç\\x83§å®\\x8cã\\x80\\x82': 1, 'ã\\x80\\x80ã\\x80\\x8010': 1, 'ã\\x80\\x80ã\\x80\\x80è£': 1, 'æ\\x88\\x90æ\\x97': 1, 'å': 1, '³ç´§è¦\\x81ç\\x9a\\x84äººï¼\\x8cå\\x9b': 1, 'ä¸ºæ\\x95\\x8cäººå\\x8f¯è\\x83½å¼¹è\\x8d¯ä¸\\x8då¤\\x9fäº\\x86ã\\x80\\x82ï¼\\x88æ\\x89\\x80ä»¥ä»\\x96ä¼\\x9aå': 1, '\\x88æ\\x89\\x93æ\\x9c\\x80é\\x87\\x8dè¦\\x81ç\\x9a\\x84äººï¼\\x89': 1, 'ã\\x80\\x80ã\\x80\\x8011': 1, 'positionï¼\\x8cthe': 1, 'ã\\x80\\x80ã\\x80\\x80æ¯\\x8få½\\x93ä½': 1, 'è¦\\x81æ\\x94»å\\x87»å\\x89\\x8dè¿\\x9bæ\\x97¶ï¼\\x8cç\\x82®å': 1, 'µå¾\\x80å¾\\x80ä¹\\x9fç\\x94¨å®\\x8cäº\\x86ç\\x82®å¼¹ã\\x80\\x82': 1, 'ã\\x80\\x8012': 1, 'ã\\x80\\x80ã\\x80\\x80é\\x82£æ\\x94¯ä½': 1, 'ä»¥ä¸ºæ\\x98¯æ\\x95\\x8cå\\x86\\x9bç\\x96\\x91å': 1, 'µè\\x80\\x8cä¸\\x8då\\x8a': 1, 'æ³¨æ\\x84\\x8fç\\x9a\\x84é\\x83¨é\\x98\\x9få': 1, '¶å®\\x9eæ\\x98¯æ\\x94»å\\x87»ä¸»å\\x8a\\x9bã\\x80\\x82': 1, 'ã\\x80\\x80ã\\x80\\x8013': 1, 'ã\\x80\\x80ã\\x80\\x80é\\x87\\x8dè¦\\x81ç\\x9a\\x84äº\\x8bæ\\x80»æ\\x98¯ç®\\x80å\\x8d\\x95ç\\x9a\\x84ã\\x80\\x82': 1, 'ã\\x80\\x80ã\\x80\\x8014': 1, 'ã\\x80\\x80ã\\x80\\x80ç®\\x80å\\x8d\\x95ç\\x9a\\x84äº\\x8bæ\\x80»æ\\x98¯é\\x9a¾ä½\\x9cå\\x88°ã\\x80\\x82': 1, 'ã\\x80\\x80ã\\x80\\x8015': 1, 'ã\\x80\\x80ã\\x80\\x80å¥½èµ°ç\\x9a\\x84è·¯æ\\x80»æ\\x98¯ä¼\\x9aè¢«å¸\\x83é\\x9b·ã\\x80\\x82': 1, 'ã\\x80\\x80ã\\x80\\x8016': 1, 'é\\x99¤äº\\x86æ\\x95\\x8cäººä»¥å¤\\x96ä»\\x80ä¹\\x88é\\x83½ç¼ºï¼\\x8cé\\x82£ä½': 1, 'ä¸\\x80å®\\x9aæ\\x98¯å\\x9c¨äº¤æ\\x88\\x98ä¸\\xadã\\x80\\x82': 1, 'ã\\x80\\x80ã\\x80\\x8017': 1, 'å·²ç»\\x8fè\\x82\\x83æ¸': 1, 'è¿\\x87ä¸\\x80ä¸ªå\\x8cºå\\x9f\\x9få\\x88«å¿\\x98äº\\x86å\\x91\\x8aè¯\\x89æ\\x95\\x8cäººã\\x80\\x82': 1, 'ã\\x80\\x80ã\\x80\\x8018': 1, 'ã\\x80\\x80ã\\x80\\x80é£\\x9eæ\\x9d¥ç\\x9a\\x84å\\xad\\x90å¼¹æ\\x9c\\x89ä¼\\x98å': 1, '\\x88é\\x80\\x9aè¡\\x8cæ\\x9d\\x83ã\\x80\\x82ï¼\\x88æ\\x8c¡å®\\x83é\\x81\\x93ä½': 1, 'å°±å\\x80\\x92å¤§æ¥£å\\x95¦ï¼\\x89': 1, 'å\\x8f\\x8b': 1, 'å\\x86\\x9bç\\x82®ç\\x81«ï¼\\x8cä¸\\x8dæ\\x98¯å\\x90\\x97ï¼\\x9f': 1, 'ã\\x80\\x80ã\\x80\\x8020': 1, 'ã\\x80\\x80ã\\x80\\x80å¦\\x82æ\\x9e\\x9cæ\\x95\\x8cäººæ\\xad£å\\x9c¨ä½': 1, 'ç\\x9a\\x84å°\\x84ç¨\\x8bå\\x86': 1, 'ï¼\\x8cå\\x88«å¿\\x98äº\\x86ä½': 1, 'ä¹\\x9få\\x9c¨ä»\\x96ç\\x9a\\x84å°\\x84ç¨\\x8bå\\x86': 1, 'ã\\x80\\x80ã\\x80\\x8021': 1, 'inspections': 1, 'ã\\x80\\x80ã\\x80\\x80ä»\\x8eæ²¡æ\\x9c\\x89ä¸\\x80æ\\x94¯å®\\x8cæ\\x88\\x90æ\\x88\\x98å¤\\x87ç\\x9a\\x84å\\x8d\\x95ä½\\x8dè\\x83½é\\x80\\x9aè¿\\x87æ': 1, '¡é\\x98': 1, 'ã\\x80\\x80ã\\x80\\x8022': 1, 'ã\\x80\\x80ã\\x80\\x80å\\x95¤é': 1, '\\x92æ\\x95°è®¡ç®\\x97æ³\\x95ï¼\\x9aæ¯\\x8fäººä¸¤ç\\x93¶ï¼\\x8cå': 1, '±å\\x8f\\x81å\\x8d\\x81ä¸\\x83äººï¼\\x8cç\\xad\\x89äº\\x8eå\\x9b\\x9bå\\x8d\\x81ä¹\\x9dç®±ã\\x80\\x82': 1, 'ã\\x80\\x80ã\\x80\\x8023': 1, 'guerillas': 1, 'ã\\x80\\x80ã\\x80\\x80æ\\xad¼æ\\x95\\x8cæ\\x95°è®¡ç®\\x97æ³\\x95ï¼\\x9aä¸¤å\\x90\\x8dæ¸¸å\\x87»é\\x98\\x9få\\x8a': 1, 'ä¸¤å\\x8fªç\\x8cªï¼\\x8cæ\\x9c¬æ¬¡æ\\x88\\x98æ\\x96\\x97å': 1, '±æ¯\\x99æ\\x95\\x8cå\\x8f\\x81å\\x8d\\x81ä¸\\x83äººã\\x80\\x82': 1, 'ã\\x80\\x80ã\\x80\\x8024': 1, 'ã\\x80\\x80ã\\x80\\x80è¦\\x81ä¸\\x80èµ·ç\\x94¨æ\\x89\\x8dè\\x83½ç\\x94\\x9fæ\\x95\\x88ç\\x9a\\x84è£': 1, 'å¤\\x87é\\x80\\x9aå¸¸ä¸\\x8dä¼\\x9aä¸\\x80èµ·è¿\\x90æ\\x9d¥ã\\x80\\x82': 1, 'ã\\x80\\x80ã\\x80\\x8025': 1, \"radio's\": 1, 'ã\\x80\\x80ã\\x80\\x80æ\\x97': 1, 'çº¿ç\\x94µæ\\x80»ä¼\\x9aå\\x9c¨ä½': 1, 'æ\\x80¥é\\x9c\\x80ç\\x81«å\\x8a\\x9bæ\\x94¯æ\\x8f´æ\\x97¶æ\\x8c\\x82æ\\x8e\\x89ã\\x80\\x82': 1, 'ä½\\x9cç\\x9a\\x84ä»»ä½\\x95äº\\x8bé\\x83½å\\x8f¯è\\x83½æ\\x8c¨æ\\x9eªå\\xad\\x90å\\x84¿': 1, 'å°±ç®\\x97ä½': 1, 'ä»\\x80ä¹\\x88é\\x83½ä¸\\x8då\\x81\\x9aä¹\\x9fä¸\\x80æ': 1, '·ã\\x80\\x82': 1, 'ã\\x80\\x80ã\\x80\\x8027': 1, 'ã\\x80\\x80ã\\x80\\x80æ\\x9b³å': 1, '\\x89å¼¹å\\x8f¯ä»¥å¸®ä½': 1, 'æ\\x89¾å\\x88°æ\\x95\\x8cè¸ªï¼\\x9bä½\\x86ä¹\\x9fä¼\\x9aè®©æ\\x95\\x8cäººæ\\x89¾å\\x88°ä½': 1, 'ã\\x80\\x80ã\\x80\\x8028': 1, 'imcoming': 1, 'ã\\x80\\x80ã\\x80\\x80å\\x94¯ä¸\\x80æ¯\\x94æ\\x95\\x8cç\\x81«è¿\\x98å\\x87\\x86ç¡®ï¼\\x88è\\x80\\x8cä¸\\x94ä¼\\x9aå®°æ\\x8e\\x89ä½': 1, 'ç\\x9a\\x84ï¼\\x89æ\\x98¯å\\x8f\\x8bå\\x86\\x9bç\\x82®ç\\x81«ã\\x80\\x82': 1, 'ã\\x80\\x80ã\\x80\\x8029': 1, 'ã\\x80\\x80ã\\x80\\x80å½\\x93ä½': 1, 'é\\x98²å®\\x88ä¸¥å¯\\x86å\\x88°æ\\x95\\x8cäººæ\\x94»ä¸\\x8dè¿\\x9bæ\\x9d¥æ\\x97¶ï¼\\x8cé\\x82£å¾\\x80å¾\\x80ä½': 1, 'è\\x87ªå·±ä¹\\x9fä¼\\x9aå\\x87ºä¸\\x8då\\x8e»ã\\x80\\x82': 1, 'ã\\x80\\x80ã\\x80\\x8030': 1, 'æ\\x8a¢æ\\x8a¥æ\\x88\\x98å\\x8a\\x9fï¼\\x8cé\\x82£ä½': 1, 'ä¹\\x9fä¼\\x9aæ\\x9c\\x89æ\\x9b´å¤\\x9aç\\x9b®æ': 1, '\\x87å¾\\x97æ\\x89\\x93ã\\x80\\x82ï¼\\x88ä¸\\x8açº§è¶\\x8aç\\x9c\\x8bé\\x87\\x8dä½': 1, 'ï¼\\x89': 1, 'ã\\x80\\x80ã\\x80\\x80å½\\x93ä¸¤å\\x86\\x9bé\\x83½è§\\x89å¾\\x97è\\x87ªå·±å¿«è¾\\x93æ\\x97¶ï¼\\x8cé\\x82£ä»\\x96ä»¬é\\x83½æ\\x98¯å¯¹ç\\x9a\\x84ã\\x80\\x82': 1, 'ã\\x80\\x80ã\\x80\\x80ä¸\\x93ä¸\\x9aç\\x9a\\x84å£«å': 1, 'µæ\\x98¯å\\x8f¯é¢\\x84æµ\\x8bç\\x9a\\x84ï¼\\x9bä½\\x86ä¸\\x96ä¸\\x8aå\\x8d´å': 1, 'æ»¡äº\\x86è\\x8f\\x9cé¸\\x9fã\\x80\\x82': 1, 'ã\\x80\\x80ã\\x80\\x80è\\x8e«é\\x9d\\x9eæ\\x98¯ä¸ªä¹¡å·´ä½¬': 1, \"bill''s\": 1, 'controlï¼\\x88æ¯\\x94å°\\x94ç\\x9a\\x84ä¼\\x81å\\x9b¾ï¼\\x9aå¤ºå\\x8f\\x96å·¥ä¸\\x9aæ\\x8e§å\\x88¶ï¼\\x89': 1, 'isdn': 1, 'nothingï¼\\x88å®\\x83ä»\\x8dç\\x84¶ä»\\x80ä¹\\x88é\\x83½ä¸\\x8då\\x81\\x9aï¼\\x89': 1, 'systemï¼\\x88å·²æ\\xad»äº¡ç\\x9a\\x84æ\\x93\\x8dä½\\x9cç³»ç»\\x9fï¼\\x89': 1, 'hangsï¼\\x88å¤§é\\x83¨å\\x88\\x86å\\x8a\\x9fè\\x83½å´©æº\\x83ï¼\\x8cå¦\\x82æ\\x9e\\x9cæ²¡æ\\x9c\\x89ï¼\\x8cå\\x88\\x99æ\\x93\\x8dä½\\x9cç³»ç»\\x9fæ\\x8c\\x82èµ·ï¼\\x89': 1, 'systemï¼\\x88å°\\x86å\\x9c¨æ\\x89\\x80æ\\x9c\\x89ç³»ç»\\x9fä¸\\xadå®\\x89è£': 1, 'æ\\x97': 1, 'ç\\x94¨æ\\x95°æ\\x8d®ï¼\\x89': 1, 'teenagersï¼\\x88å¤§é\\x83¨å\\x88\\x86è\\x81ªæ\\x98\\x8eç\\x9a\\x84ç\\x94¨æ\\x88·è®¤è¯\\x86å\\x88°æ\\x88\\x91ä»¬ç\\x9a\\x84è½¯ä»¶ä»': 1, 'ä»': 1, 'æ¬ºéª\\x97å¹´è½»äººï¼\\x89': 1, 'staion': 1, 'emabuthed': 1, 'wraped': 1, 'hobble': 1, 'gypped': 1, 'stopover': 1, 'hollis': 1, 'corazoncita': 1, 'jear': 1, \"'duk\": 1, 'electonics': 1, 'serio': 1, 'ù': 1, 'ø¹ù\\x87ø¯': 1, 'ø§ù\\x84ø£ù': 1, 'ù\\x86': 1, 'ø§ù\\x84ø¹ø§ù\\x84ù': 1, 'ù\\x8a': 1, 'ø¨ù\\x88ø§': 1, 'ø´ù\\x86': 1, 'bucktooth': 1, 'shrewdly': 1, 'assayed': 1, 'solomonic': 1, 'assaying': 1, 'trooped': 1, 'evryone': 1, \"least'\": 1, \"'friend'\": 1, 'nitro': 1, 'hadas': 1, 'whitener': 1, 'friesland': 1, 'h4': 1, 'h5': 1, 'qa4': 1, 'ra6': 1, 'qxa5': 1, 'rah6': 1, 'qxc7': 1, 'f6': 1, 'qxd7': 1, 'kf7': 1, 'qxb7': 1, 'qd3': 1, 'qxb8': 1, 'qh7': 1, 'qxc8': 1, 'kg6': 1, 'qe6': 1, 'e5': 1, 'g4': 1, 'qh4': 1, 'lowball': 1, 'cinfuscious': 1, 'plods': 1, 'provisioned': 1, 'greiving': 1, 'holg': 1, 'gottong': 1, '1840': 1, '1880': 1, 'duking': 1, 'braintracker': 1, 'plurals': 1, 'lwei': 1, 'plew': 1, 'plower': 1, 'rowel': 1, 'willer': 1, 'willower': 1, 'bagina': 1, 'huis': 1, 'wowolfol': 1, 'steppetspets': 1, 'egassam': 1, 'wn': 1, 'lunes': 1, 'martes': 1, 'miercoles': 1, 'jueves': 1, 'viernes': 1, 'sabado': 1, 'scatterbrain': 1, 'fresssshh': 1, 'freeeeessssshh': 1, \"'free'\": 1, 'godsons': 1, 'gurantee': 1, 'shmiracle': 1, \"nathan's\": 1, 'rumpus': 1, \"partners'\": 1, 'horowits': 1, 'lebowits': 1, 'rabbinowits': 1, 'abramowits': 1, 'interchanged': 1, 'lookkool': 1, 'qqqqqq': 1, \"'ck'\": 1, 'camedien': 1, 'ploove': 1, 'coror': 1, \"'jewpiter'\": 1, 'snerples': 1, 'continously': 1, 'observers': 1, \"partyin'\": 1, 'longneck': 1, 'rebuilds': 1, 'wildebeeste': 1, 'londoners': 1, 'gurion': 1, \"villagers'\": 1, 'coulombs': 1, 'milliampere': 1, 'abcdefghijkmnopqrstuvwxyz': 1, 'deinpth': 1, 'vestinigation': 1, 'ballbballaballsballkballeballtball': 1, 'onalle': 1, 'gilacopa': 1, '1832': 1, \"1830's\": 1, 'pychologist': 1, 'mtgg': 1, \"mistress'\": 1, 'overruled': 1, 'huga': 1, 'hore': 1, 'offeneded': 1, 'jakarta': 1, 'minter': 1, 'osinski': 1, 'acfield': 1, 'dinkins': 1, 'kennard': 1, 'summerall': 1, 'bbc2': 1, 'bewitch': 1, \"oreo's\": 1, 'tawney': 1, 'whiling': 1, 'grrrrrrrrrr': 1, \"'insensitive\": 1, 'decameter': 1, 'annouced': 1, 'ã\\x82â£5': 1, 'ã\\x82â£4': 1, 'perkins': 1, 'hwayetrdetipzlhv': 1, 'omnltesoshsuzeae': 1, 'ehca': 1, 'snippet': 1, \"'pond'\": 1, 'handholding': 1, 'sweatiness': 1, \"'concentrate\": 1, 'zzzzzzzzzzzzzzzzzzzzzzzzzzzzzzzz': 1, 'waitign': 1, 'nisheeth': 1, 'parekh': 1, 'ekscuse': 1, 'gangover': 1, \"letters'\": 1, 'knutton': 1, 'silverdale': 1, 'lase': 1, 'intruiged': 1, 'minutemaid': 1, 'ddt': 1, \"d'ouvre\": 1, 'elsie': 1, 'retouched': 1, 'retouch': 1, 'sylvie': 1, \"'improve\": 1, \"'cultivate\": 1, \"'cultivate'\": 1, \"'pavarotti'\": 1, \"canary's\": 1, 'hollows': 1, \"'ms'\": 1, 'amico': 1, 'desidero': 1, 'comprare': 1, 'mazzo': 1, 'banane': 1, 'compagno': 1, 'spiacente': 1, 'questo': 1, 'ã¨': 1, 'farmacista': 1, \"'deaths'\": 1, 'iffn': 1, \"'eternity\": 1, \"'abandon\": 1, 'paccachu': 1, 'yech': 1, 'subdirectory': 1, 'pagead2': 1, 'googlesyndication': 1, 'fastclick': 1, 'burstnet': 1, \"'charlie'\": 1, \"'delta\": 1, 'blacketer': 1, 'grberry': 1, 'csd': 1, 'mindmatrix': 1, 'happycamper': 1, 'namespace': 1, 'lwin': 1, 'byway': 1, 'factoring': 1, 'atouille': 1, 'atla': 1, 'bfi': 1, 'bicbw': 1, 'bmtipg': 1, 'bsod': 1, 'cotflgohaha': 1, 'cpf': 1, 'crs': 1, 'institutional': 1, 'nuthouse': 1, 'kentrocks': 1, 'trã¨s': 1, 'ã©mue': 1, 'compris': 1, \"l'autre\": 1, 'soir': 1, 'aviez': 1, 'toujours': 1, 'envie': 1, 'folle': 1, 'danser': 1, 'baiser': 1, 'voudrais': 1, 'soit': 1, 'puisse': 1, 'ãªtre': 1, 'aimã©e': 1, 'prãªte': 1, 'ã': 1, 'dã©sintã©ressã©e': 1, 'dã©voiler': 1, 'artifice': 1, 'nue': 1, 'visite': 1, 'causerons': 1, 'franchement': 1, 'prouverai': 1, 'sincã¨re': 1, \"l'affection\": 1, 'profonde': 1, 'ã©troite': 1, 'amitiã©': 1, 'meilleure': 1, 'puissiez': 1, 'rãªver': 1, 'puisque': 1, 'pensez': 1, \"j'ha\": 1, 'dure': 1, 'souvent': 1, 'ainsi': 1, 'songeant': 1, \"l'ã¢me\": 1, 'grosse': 1, 'accourrez': 1, 'donc': 1, 'oublier': 1, 'mettre': 1, 'ligne': 1, 'apemantus': 1, 'demetrius': 1, 'kerryman': 1, 'pitney': 1, 'explaination': 1, 'mensans': 1, 'limpid': 1, \"''write\": 1, 'pillared': 1, 'mississippian': 1, 'waaaaaaaaaaa': 1, 'plastering': 1, 'barkity': 1, 'kalis': 1, 'resaw': 1, 'miop': 1, 'spppeeel': 1, 'jollibe': 1, 'ghi': 1, 'violas': 1, 'pianissimo': 1, 'tremolando': 1, '17112': 1, 'clarinetist': 1, 'ensembles': 1, 'trumpetists': 1, 'ç\\x9d×\\x9fdoç\\x9dd': 1, 'é¥ê\\x87ä±ê\\x8d': 1, 'pç\\x9dé\\x9f': 1, 'oé¥ê\\x8d': 1, 'uosé¹ç\\x9dd': 1, 'é\\x90': 1, 'megazine': 1, \"'ben'\": 1, \"'bench'\": 1, \"m'dear\": 1, \"emma's\": 1, 'sudbury': 1, 'batavia': 1, 'peacemaking': 1, 'rashers': 1, \"mom''\": 1, \"want''\": 1, 'sitn': 1, 'affter': 1, \"homework''\": 1, '1732': 1, 'xjokerx': 1, 'â£1': 1, 'â£5': 1, 'â£400': 1, '560': 1, 'â£3': 1, \"mulligan's\": 1, \"'em's\": 1, '4500': 1, 'critiqued': 1, \"sold'\": 1, \"fish'\": 1, \"'fish'\": 1, \"cafe'\": 1, 'mixxxxxxx': 1, \"'tard\": 1, 'theese': 1, \"'history\": 1, 'jeopardized': 1, 'guin': 1, 'shiii': 1, 'gos': 1, \"'fur'\": 1, 'niture': 1, 'merrill': 1, 'prudential': 1, 'bache': 1, 'hyvee': 1, '344': 1, 'ppsh': 1, \"teenager's\": 1, \"'fluffy\": 1, \"s''\": 1, 'swishy': 1, \"'alohomora\": 1, 'silvery': 1, 'iming': 1, '1415926535': 1, 'crochy': 1, 'successors': 1, '1808': 1, 'comprise': 1, 'fireless': 1, 'fatless': 1, 'effortless': 1, 'loveless': 1, 'valueless': 1, 'follies': 1, 'diot': 1, \"newf's\": 1, \"drunky's\": 1, \"alex1234's\": 1, 'legislated': 1, \"'blond'\": 1, 'pirattv': 1, 'haar': 1, 'sniffling': 1, 'cheapass': 1, 'prayin': 1, 'stiffness': 1, \"'driving\": 1, \"licence'\": 1, \"leader''\": 1, \"gay''\": 1, \"cute''\": 1, \"fittin'\": 1, \"terrance's\": 1, '57005': 1, 'concocting': 1, \"companions'\": 1, 'muddled': 1, 'â\\x88\\x9e': 1, 'ï\\x89': 1, 'irantecedents': 1, 'participles': 1, 'locutions': 1, '1428571429': 1, 'oooff': 1, \"''lol\": 1, \"lol''\": 1, 'deca': 1, \"gnat's\": 1, 'ostmarks': 1, 'ossie': 1, 'udssr': 1, \"gdr's\": 1, \"'soviet\": 1, 'gã¤nsefleisch': 1, \"genn'\": 1, 'vleisch': 1, 'gofferraum': 1, 'offmachn': 1, 'kã¶nnen': 1, 'vielleicht': 1, 'kofferraum': 1, 'aufmachen': 1, \"'tatã¼\": 1, \"tata'\": 1, 'tatã¼': 1, 'saxony': 1, 'dieta': 1, 'veb': 1, 'sachsenring': 1, 'leipzig': 1, 'zwickau': 1, 'dumme': 1, 'ossi': 1, 'wessi': 1, '17559': 1, 'rebbes': 1, 'shabbes': 1, 'mitzvoh': 1, 'goneffs': 1, 'shtetls': 1, 'grievous': 1, 'reconstructionist': 1, 'zwi': 1, 'yisroel': 1, 'reneging': 1, 'aâ\\x80\\x93vet': 1, 'aâ\\x80\\x93freezing': 1, 'entrã©e': 1, 'savouring': 1, 'stalinist': 1, 'equivocate': 1, \"''insufficient\": 1, \"'butter\": 1, 'sau': 1, 'baras': 1, 'khatkhata': 1, 'rahen': 1, 'darwazaa': 1, 'kholo': 1, 'performative': 1, 'hibernia': 1, 'himeself': 1, 'molbos': 1, 'thereâ\\x80\\x94and': 1, \"'abort\": 1, \"gagarin's\": 1, 'quadriga': 1, \"apocalypse'\": 1, 'pluging': 1, 'lobe': 1, 'zats': 1, 'boobler': 1, 'crabbily': 1, 'unclogged': 1, 'succinctly': 1, 'exhibitions': 1, 'perkman': 1, 'desirous': 1, 'ogress': 1, 'multidisciplinary': 1, 'miall': 1, 'sevenassov': 1, 'petrograd': 1, 'chaotically': 1, \"'proteins\": 1, 'modernization': 1, 'abramovich': 1, 'dzerzhinsky': 1, 'subbotnik': 1, 'smolny': 1, 'ili': 1, 'deseated': 1, \"cuzka's\": 1, \"'ilyich'\": 1, \"brezhnev's\": 1, \"andropov's\": 1, 'konstantin': 1, 'ustinovich': 1, 'perestroika': 1, 'uskoreniye': 1, 'gospriyomka': 1, 'nonchalance': 1, 'conspirator': 1, \"dzerzhinsky's\": 1, 'precepts': 1, 'intelligentsia': 1, 'cpsu': 1, 'â\\x80\\x95have': 1, 'â\\x80\\x95well': 1, \"laptop's\": 1, 'dod': 1, \"o'donald\": 1, 'catastrophes': 1, 'ethiopeans': 1, 'backwash': 1, 'manifold': 1, \"doraemon's\": 1, 'jjjjjoooooookkkkkkkeeeee': 1, \"jo'\": 1, 'randolph': 1, 'roanoke': 1, 'curving': 1, 'jellied': 1, 'matanuska': 1, 'tokositna': 1, 'kichatna': 1, 'oshetna': 1, 'bodenburg': 1, 'muktuk': 1, 'mukluks': 1, 'lewdness': 1, 'siskel': 1, 'ebert': 1, 'oboes': 1, \"puritan's\": 1, 'diaoyu': 1, 'jokemasters': 1, 'chocaholics': 1, 'pway': 1, 'kotcha': 1, 'isenya': 1, 'greengrocery': 1, 'assman': 1, 'teola': 1, 'kuntz': 1, 'spiff': 1, 'tresping': 1, 'telk': 1, 'shuddup': 1, 'jewnormous': 1, 'shaddap': 1, 'orgasasm': 1, 'marmot': 1, 'tacnic': 1, 'boofuckinghoo': 1, 'helllloooo': 1, 'hbos': 1, 'soldiering': 1, '1111111111111111111111111999999999thousand': 1, 'erroneously': 1, 'percocet': 1, 'applaude': 1, 'kickstand': 1, 'birhtday': 1, 'whathappened': 1, \"'pickle\": 1, \"vigina'\": 1, 'spunky': 1, 'condomize': 1, 'vulcanize': 1, 'nohistory': 1, 'for911': 1, \"'celebrity\": 1, 'leftish': 1, \"republicans'\": 1, 'andquickly': 1, 'baldmen': 1, \"5'11''\": 1, 'depreciation': 1, 'snowballed': 1, 'punraccoon': 1, 'macedonia': 1, \"cache's\": 1, 'defaulting': 1, \"sized'\": 1, 'crã¨che': 1, 'drugmobile': 1, 'quadrupal': 1, 'dounut': 1, 'faggatron': 1, 'pueberty': 1, '13yrs': 1, 'belibers': 1, 'illy': 1, 'kardasian': 1, '27years': 1, 'robutusin': 1, 'â\\x80ª16': 1, 'â\\x80¬a': 1, 'wached': 1, 'makky': 1, 'ponting': 1, 'geert': 1, 'wilders': 1, \"weight's\": 1, 'drid': 1, 'wealthily': 1, 'townpeople': 1, 'qu': 1, 'hoppers': 1, \"bouncers'\": 1, 'boilingual': 1, 'receptionists': 1, \"touches'\": 1, 'limosarus': 1, \"'messiah'\": 1, \"'function'\": 1, 'maican': 1, 'deckchairs': 1, 'gbs': 1, 'ec2': 1, 'misfits': 1, 'checkâ\\x80\\x93': 1, 'spartaaaaaaaaa': 1, 'pentacle': 1, 'loc': 1, 'noâ\\x80\\x93': 1, \"don'tâ\\x80\\x93\": 1, 'wellâ\\x80\\x93': 1, 'inâ\\x80\\x93': 1})\n"
     ]
    }
   ],
   "source": [
    "from collections import Counter\n",
    "\n",
    "vocabulary = list([word for sentence in scripts for word in sentence])\n",
    "counts = Counter(vocabulary)\n",
    "vocabulary = [w for w,f in counts.items()]\n",
    "vocabulary.sort(key = lambda x: counts[x], reverse=True)\n",
    "print(len(vocabulary))\n",
    "vocabulary = vocabulary[:10000]\n",
    "print(vocabulary[:20])"
   ]
  },
  {
   "cell_type": "code",
   "execution_count": 10,
   "metadata": {
    "colab": {},
    "colab_type": "code",
    "id": "HBE7CzHGDbyL",
    "outputId": "2694d4fb-5143-4f33-d2fe-6886bd7806a2"
   },
   "outputs": [
    {
     "name": "stdout",
     "output_type": "stream",
     "text": [
      "['<pad>', '<unk>', '<endtoken>', 'the', 'a', 'and', 'to', 'i', 'you', 'in', 'of', 'he', 'is', 'it', 'his', 'was', 'that', 'what', 'my', 'on']\n",
      "10003\n"
     ]
    }
   ],
   "source": [
    "word2id = {w:i+3 for i,w in enumerate(vocabulary)}\n",
    "word2id[\"<pad>\"] = 0\n",
    "word2id[\"<unk>\"] = 1\n",
    "word2id[\"<endtoken>\"] = 2\n",
    "\n",
    "id2word = list(word2id.keys())\n",
    "id2word.sort(key=lambda x: word2id[x])\n",
    "print(id2word[:20])\n",
    "print(len(id2word))"
   ]
  },
  {
   "cell_type": "code",
   "execution_count": 11,
   "metadata": {
    "colab": {
     "base_uri": "https://localhost:8080/",
     "height": 299
    },
    "colab_type": "code",
    "executionInfo": {
     "elapsed": 900,
     "status": "ok",
     "timestamp": 1586415686108,
     "user": {
      "displayName": "Víctor Busqué",
      "photoUrl": "https://lh3.googleusercontent.com/a-/AOh14Gh0qA2yRvq0dyHybmt72SB-pcGUWJt4nDcZn7eKGLc=s64",
      "userId": "15975433531376289761"
     },
     "user_tz": -120
    },
    "id": "qghDtbI5DbyS",
    "outputId": "88bdb368-2014-48b8-e199-ada5f17e9159"
   },
   "outputs": [
    {
     "name": "stdout",
     "output_type": "stream",
     "text": [
      "Average length: 45.415209734387204\n",
      "Max length: 753\n"
     ]
    },
    {
     "data": {
      "image/png": "[encoded data removed]",
      "text/plain": [
       "<Figure size 432x288 with 1 Axes>"
      ]
     },
     "metadata": {
      "needs_background": "light"
     },
     "output_type": "display_data"
    }
   ],
   "source": [
    "%matplotlib inline\n",
    "import matplotlib.pyplot as plt\n",
    "print(f\"Average length: {sum(scriptsLengths)/len(scriptsLengths)}\")\n",
    "print(f\"Max length: {max(scriptsLengths)}\")\n",
    "plt.hist(scriptsLengths, bins=50)\n",
    "plt.show()"
   ]
  },
  {
   "cell_type": "code",
   "execution_count": 12,
   "metadata": {
    "colab": {},
    "colab_type": "code",
    "id": "yXpH2lOFYf6m",
    "outputId": "758826ab-7afb-4e26-ef02-63253c945c6b"
   },
   "outputs": [
    {
     "data": {
      "text/plain": [
       "0.7853777871658962"
      ]
     },
     "execution_count": 12,
     "metadata": {},
     "output_type": "execute_result"
    }
   ],
   "source": [
    "num_words = 50 #40 words each sentence\n",
    "sum([l < num_words for l in scriptsLengths])/len(scriptsLengths)"
   ]
  },
  {
   "cell_type": "code",
   "execution_count": 13,
   "metadata": {
    "colab": {},
    "colab_type": "code",
    "id": "kBiYvtlhDbyY"
   },
   "outputs": [],
   "source": [
    "xindexs, yindexs = [], []\n",
    "for i, wlist in enumerate(scripts):\n",
    "    xarray = np.zeros( (num_words+1))\n",
    "    numWords = len(wlist)\n",
    "    j = 0\n",
    "    for j, w in enumerate(wlist[:num_words-1]):\n",
    "        if w in word2id.keys(): xarray[j] = word2id[w]\n",
    "        else: xarray[j] = word2id[\"<unk>\"] \n",
    "    xarray[j+1] = word2id[\"<endtoken>\"]\n",
    "    yindexs.append([ [id] for id in xarray])\n",
    "    xindexs.append( xarray )"
   ]
  },
  {
   "cell_type": "code",
   "execution_count": 14,
   "metadata": {
    "colab": {},
    "colab_type": "code",
    "id": "RBqrHO_VDbyk"
   },
   "outputs": [],
   "source": [
    "xdata = np.array(xindexs)\n",
    "ydata = np.array(yindexs)\n",
    "x = xdata[:,:-1]\n",
    "y = ydata[:,1:,:]"
   ]
  },
  {
   "cell_type": "code",
   "execution_count": 15,
   "metadata": {
    "colab": {
     "base_uri": "https://localhost:8080/",
     "height": 122
    },
    "colab_type": "code",
    "executionInfo": {
     "elapsed": 712,
     "status": "ok",
     "timestamp": 1586415697160,
     "user": {
      "displayName": "Víctor Busqué",
      "photoUrl": "https://lh3.googleusercontent.com/a-/AOh14Gh0qA2yRvq0dyHybmt72SB-pcGUWJt4nDcZn7eKGLc=s64",
      "userId": "15975433531376289761"
     },
     "user_tz": -120
    },
    "id": "1ELpR0xmDbyp",
    "outputId": "d6c560ed-e73e-4243-bc9d-f770f8d2be60",
    "scrolled": true
   },
   "outputs": [
    {
     "name": "stdout",
     "output_type": "stream",
     "text": [
      "(203567, 50)\n",
      "(203567, 50, 1)\n",
      "\n",
      "[7.0, 594.0, 44.0, 8.0, 1579.0, 211.0, 87.0, 160.0, 1162.0, 1059.0, 104.0, 7.0, 27.0, 6.0, 87.0, 4422.0, 58.0, 8.0, 278.0, 1162.0, 3.0, 1171.0, 2.0, 0.0, 0.0, 0.0, 0.0, 0.0, 0.0, 0.0, 0.0, 0.0, 0.0, 0.0, 0.0, 0.0, 0.0, 0.0, 0.0, 0.0, 0.0, 0.0, 0.0, 0.0, 0.0, 0.0, 0.0, 0.0, 0.0, 0.0]\n",
      "[[594.0], [44.0], [8.0], [1579.0], [211.0], [87.0], [160.0], [1162.0], [1059.0], [104.0], [7.0], [27.0], [6.0], [87.0], [4422.0], [58.0], [8.0], [278.0], [1162.0], [3.0], [1171.0], [2.0], [0.0], [0.0], [0.0], [0.0], [0.0], [0.0], [0.0], [0.0], [0.0], [0.0], [0.0], [0.0], [0.0], [0.0], [0.0], [0.0], [0.0], [0.0], [0.0], [0.0], [0.0], [0.0], [0.0], [0.0], [0.0], [0.0], [0.0], [0.0]]\n"
     ]
    }
   ],
   "source": [
    "print(x.shape)\n",
    "print(y.shape)\n",
    "print()\n",
    "print(x[0].tolist())\n",
    "print(y[0].tolist())"
   ]
  },
  {
   "cell_type": "markdown",
   "metadata": {
    "colab_type": "text",
    "id": "ije8K68-Dby2"
   },
   "source": [
    "# MODEL\n"
   ]
  },
  {
   "cell_type": "code",
   "execution_count": 16,
   "metadata": {
    "colab": {},
    "colab_type": "code",
    "id": "D7L6nFiIDby2"
   },
   "outputs": [],
   "source": [
    "from tensorflow.keras.layers import Input, Embedding, LSTM, Dense, TimeDistributed\n",
    "from tensorflow.compat.v1.keras.layers import CuDNNLSTM\n",
    "from tensorflow.keras.models import Model, Sequential\n",
    "from tensorflow.keras.callbacks import TensorBoard, EarlyStopping\n",
    "import datetime"
   ]
  },
  {
   "cell_type": "code",
   "execution_count": 17,
   "metadata": {
    "colab": {},
    "colab_type": "code",
    "id": "WFBA3XUODby6",
    "outputId": "b0e78335-5a0b-48a5-d15f-9e8f002599cd"
   },
   "outputs": [
    {
     "name": "stdout",
     "output_type": "stream",
     "text": [
      "10003\n",
      "50\n"
     ]
    }
   ],
   "source": [
    "import tensorflow as tf\n",
    "\n",
    "# tf.config.list_physical_devices('GPU') # True/False\n",
    "\n",
    "vocabulary_size = len(word2id.keys())\n",
    "sentence_size = num_words\n",
    "\n",
    "batch_size = 128\n",
    "output_dim = 128\n",
    "\n",
    "print(vocabulary_size)\n",
    "print(sentence_size)"
   ]
  },
  {
   "cell_type": "code",
   "execution_count": null,
   "metadata": {
    "colab": {
     "base_uri": "https://localhost:8080/",
     "height": 34
    },
    "colab_type": "code",
    "executionInfo": {
     "elapsed": 15178,
     "status": "ok",
     "timestamp": 1586415727275,
     "user": {
      "displayName": "Víctor Busqué",
      "photoUrl": "https://lh3.googleusercontent.com/a-/AOh14Gh0qA2yRvq0dyHybmt72SB-pcGUWJt4nDcZn7eKGLc=s64",
      "userId": "15975433531376289761"
     },
     "user_tz": -120
    },
    "id": "dyvi9fvGnxco",
    "outputId": "dfcda9c2-2f6f-4204-ecda-5b06f8316977"
   },
   "outputs": [],
   "source": [
    "EMBEDDING_DIM = 100\n",
    "\n",
    "embeddings_index = {}\n",
    "f = open(glove_path, \"r\", encoding=\"utf8\")\n",
    "for line in f:\n",
    "    values = line.split()\n",
    "    word = values[0]\n",
    "    coefs = np.asarray(values[1:], dtype='float32')\n",
    "    embeddings_index[word] = coefs\n",
    "f.close()\n",
    "\n",
    "print('Found %s word vectors.' % len(embeddings_index))"
   ]
  },
  {
   "cell_type": "code",
   "execution_count": null,
   "metadata": {
    "colab": {
     "base_uri": "https://localhost:8080/",
     "height": 34
    },
    "colab_type": "code",
    "executionInfo": {
     "elapsed": 18896,
     "status": "ok",
     "timestamp": 1586387706276,
     "user": {
      "displayName": "Víctor Busqué",
      "photoUrl": "https://lh3.googleusercontent.com/a-/AOh14Gh0qA2yRvq0dyHybmt72SB-pcGUWJt4nDcZn7eKGLc=s64",
      "userId": "15975433531376289761"
     },
     "user_tz": -120
    },
    "id": "6cgqSSF_oJTP",
    "outputId": "742d4c8a-c1d0-47da-eb19-1ef94b6cb336",
    "scrolled": true
   },
   "outputs": [],
   "source": [
    "embedding_matrix = np.zeros((vocabulary_size, EMBEDDING_DIM))\n",
    "for word, i in word2id.items():\n",
    "    embedding_vector = embeddings_index.get(word)\n",
    "    if embedding_vector is not None:\n",
    "        # words not found in embedding index will be all-zeros.\n",
    "        embedding_matrix[i] = embedding_vector\n",
    "embedding_matrix[word2id[\"<unk>\"]] = np.random.random_sample((EMBEDDING_DIM,))\n",
    "print(embedding_matrix.shape)"
   ]
  },
  {
   "cell_type": "code",
   "execution_count": null,
   "metadata": {
    "colab": {},
    "colab_type": "code",
    "id": "k4aOla5UDbzD"
   },
   "outputs": [],
   "source": [
    "model = Sequential()\n",
    "model.add(Embedding(input_dim=vocabulary_size, output_dim=EMBEDDING_DIM, input_length=sentence_size, weights=[embedding_matrix], mask_zero=True, trainable=True))\n",
    "model.add(LSTM(units=256, recurrent_dropout=0.25, dropout=0.25, return_sequences=True))\n",
    "model.add(LSTM(units=256, recurrent_dropout=0.25, dropout=0.25, return_sequences=True))\n",
    "model.add(TimeDistributed(Dense(units=vocabulary_size, activation=\"softmax\")))"
   ]
  },
  {
   "cell_type": "code",
   "execution_count": 18,
   "metadata": {
    "colab": {
     "base_uri": "https://localhost:8080/",
     "height": 289
    },
    "colab_type": "code",
    "executionInfo": {
     "elapsed": 20049,
     "status": "ok",
     "timestamp": 1586387707524,
     "user": {
      "displayName": "Víctor Busqué",
      "photoUrl": "https://lh3.googleusercontent.com/a-/AOh14Gh0qA2yRvq0dyHybmt72SB-pcGUWJt4nDcZn7eKGLc=s64",
      "userId": "15975433531376289761"
     },
     "user_tz": -120
    },
    "id": "RwlW6PJeDbzG",
    "outputId": "7be67bdd-ee1a-4439-b086-8c89e5b77e53"
   },
   "outputs": [
    {
     "name": "stdout",
     "output_type": "stream",
     "text": [
      "Model: \"sequential\"\n",
      "_________________________________________________________________\n",
      "Layer (type)                 Output Shape              Param #   \n",
      "=================================================================\n",
      "embedding (Embedding)        (None, 50, 100)           1000300   \n",
      "_________________________________________________________________\n",
      "lstm (LSTM)                  (None, 50, 256)           365568    \n",
      "_________________________________________________________________\n",
      "lstm_1 (LSTM)                (None, 50, 256)           525312    \n",
      "_________________________________________________________________\n",
      "time_distributed (TimeDistri (None, 50, 10003)         2570771   \n",
      "=================================================================\n",
      "Total params: 4,461,951\n",
      "Trainable params: 4,461,951\n",
      "Non-trainable params: 0\n",
      "_________________________________________________________________\n"
     ]
    }
   ],
   "source": [
    "from tensorflow.keras.optimizers import Adam\n",
    "\n",
    "optimizer = Adam()\n",
    "model.compile(optimizer=optimizer, loss=\"sparse_categorical_crossentropy\", metrics=[\"accuracy\"])\n",
    "model.summary()"
   ]
  },
  {
   "cell_type": "code",
   "execution_count": 19,
   "metadata": {
    "colab": {},
    "colab_type": "code",
    "id": "w9xSgC3eDbzJ"
   },
   "outputs": [],
   "source": [
    "%load_ext tensorboard\n",
    "log_dir = \"logs\\\\fit\\\\\" + datetime.datetime.now().strftime(\"%Y%m%d-%H%M%S\")\n",
    "tensorboard_callback = TensorBoard(log_dir=log_dir, histogram_freq=1)\n",
    "earlystopping_callback = EarlyStopping(patience=5)"
   ]
  },
  {
   "cell_type": "code",
   "execution_count": 25,
   "metadata": {
    "colab": {},
    "colab_type": "code",
    "id": "vx7_4oMqDbzL"
   },
   "outputs": [
    {
     "name": "stdout",
     "output_type": "stream",
     "text": [
      "Train on 173031 samples, validate on 30536 samples\n",
      "Epoch 1/15\n",
      "173031/173031 [==============================] - 384s 2ms/sample - loss: 1.9144 - accuracy: 0.3048 - val_loss: 2.6002 - val_accuracy: 0.2864\n",
      "Epoch 2/15\n",
      "173031/173031 [==============================] - 326s 2ms/sample - loss: 1.9052 - accuracy: 0.3062 - val_loss: 2.6049 - val_accuracy: 0.2849\n",
      "Epoch 3/15\n",
      "173031/173031 [==============================] - 325s 2ms/sample - loss: 1.8963 - accuracy: 0.3077 - val_loss: 2.5892 - val_accuracy: 0.2882\n",
      "Epoch 4/15\n",
      "173031/173031 [==============================] - 325s 2ms/sample - loss: 1.8883 - accuracy: 0.3090 - val_loss: 2.5858 - val_accuracy: 0.2887\n",
      "Epoch 5/15\n",
      "173031/173031 [==============================] - 323s 2ms/sample - loss: 1.8810 - accuracy: 0.3103 - val_loss: 2.5799 - val_accuracy: 0.2899\n",
      "Epoch 6/15\n",
      "173031/173031 [==============================] - 328s 2ms/sample - loss: 1.8738 - accuracy: 0.3117 - val_loss: 2.5779 - val_accuracy: 0.2903\n",
      "Epoch 7/15\n",
      "173031/173031 [==============================] - 325s 2ms/sample - loss: 1.8673 - accuracy: 0.3127 - val_loss: 2.5698 - val_accuracy: 0.2915\n",
      "Epoch 8/15\n",
      "173031/173031 [==============================] - 325s 2ms/sample - loss: 1.8611 - accuracy: 0.3137 - val_loss: 2.5708 - val_accuracy: 0.2917\n",
      "Epoch 9/15\n",
      "173031/173031 [==============================] - 324s 2ms/sample - loss: 1.8552 - accuracy: 0.3147 - val_loss: 2.5665 - val_accuracy: 0.2921\n",
      "Epoch 10/15\n",
      "173031/173031 [==============================] - 323s 2ms/sample - loss: 1.8498 - accuracy: 0.3159 - val_loss: 2.5598 - val_accuracy: 0.2933\n",
      "Epoch 11/15\n",
      "173031/173031 [==============================] - 323s 2ms/sample - loss: 1.8445 - accuracy: 0.3165 - val_loss: 2.5625 - val_accuracy: 0.2934\n",
      "Epoch 12/15\n",
      "173031/173031 [==============================] - 323s 2ms/sample - loss: 1.8393 - accuracy: 0.3173 - val_loss: 2.5569 - val_accuracy: 0.2944\n",
      "Epoch 13/15\n",
      "173031/173031 [==============================] - 323s 2ms/sample - loss: 1.8349 - accuracy: 0.3183 - val_loss: 2.5549 - val_accuracy: 0.2945\n",
      "Epoch 14/15\n",
      "173031/173031 [==============================] - 323s 2ms/sample - loss: 1.8304 - accuracy: 0.3190 - val_loss: 2.5436 - val_accuracy: 0.2969\n",
      "Epoch 15/15\n",
      "173031/173031 [==============================] - 322s 2ms/sample - loss: 1.8259 - accuracy: 0.3198 - val_loss: 2.5468 - val_accuracy: 0.2962\n"
     ]
    },
    {
     "data": {
      "text/plain": [
       "<tensorflow.python.keras.callbacks.History at 0x2041ac39780>"
      ]
     },
     "execution_count": 25,
     "metadata": {},
     "output_type": "execute_result"
    }
   ],
   "source": [
    "model.fit(x=x, y=y, batch_size=batch_size, epochs=15, validation_split=.15, callbacks=[tensorboard_callback])"
   ]
  },
  {
   "cell_type": "code",
   "execution_count": 26,
   "metadata": {
    "colab": {},
    "colab_type": "code",
    "id": "QQAG0jxlDbzO"
   },
   "outputs": [],
   "source": [
    "RUN_NUM = \"JOKE_5\"\n",
    "\n",
    "model.save(f\"Models/model_{RUN_NUM}.h5\")\n",
    "import json\n",
    "\n",
    "with open(f\"Mappings/word2id_{RUN_NUM}.json\", \"w\", encoding=\"utf8\") as f:\n",
    "    json.dump(word2id, f, indent=4)"
   ]
  },
  {
   "cell_type": "markdown",
   "metadata": {
    "colab_type": "text",
    "id": "vir1PF_0DbzV"
   },
   "source": [
    "# PREDICTIONS"
   ]
  },
  {
   "cell_type": "code",
   "execution_count": 1,
   "metadata": {
    "colab": {},
    "colab_type": "code",
    "id": "bQdHoA03Qzrz"
   },
   "outputs": [],
   "source": [
    "RUN_NUM = \"JOKE_3\"\n",
    "PREFIX = \"\"#\"/content/drive/My Drive/Colab Notebooks/Language Modelling/\""
   ]
  },
  {
   "cell_type": "code",
   "execution_count": 2,
   "metadata": {
    "colab": {
     "base_uri": "https://localhost:8080/",
     "height": 54
    },
    "colab_type": "code",
    "executionInfo": {
     "elapsed": 8136,
     "status": "ok",
     "timestamp": 1586463153769,
     "user": {
      "displayName": "Víctor Busqué",
      "photoUrl": "https://lh3.googleusercontent.com/a-/AOh14Gh0qA2yRvq0dyHybmt72SB-pcGUWJt4nDcZn7eKGLc=s64",
      "userId": "15975433531376289761"
     },
     "user_tz": -120
    },
    "id": "fUQdpOn6DbzV",
    "outputId": "ba76a55b-745c-4710-caf2-7d9512143af3"
   },
   "outputs": [],
   "source": [
    "from tensorflow.keras.models import load_model\n",
    "import json\n",
    "import numpy as np\n",
    "with open(PREFIX+f\"Mappings/word2id_{RUN_NUM}.json\", \"r\", encoding=\"utf8\") as f:\n",
    "    word2id = json.load(f)\n",
    "model = load_model(PREFIX+f\"Models/model_{RUN_NUM}.h5\")"
   ]
  },
  {
   "cell_type": "code",
   "execution_count": null,
   "metadata": {
    "colab": {},
    "colab_type": "code",
    "id": "AuZ0uwJcDbzY"
   },
   "outputs": [],
   "source": [
    "id2word = list(word2id.keys())\n",
    "id2word.sort(key=lambda x: word2id[x])"
   ]
  },
  {
   "cell_type": "code",
   "execution_count": null,
   "metadata": {
    "colab": {},
    "colab_type": "code",
    "id": "uW7FfNtDDbzb"
   },
   "outputs": [],
   "source": [
    "vocabulary_size = len(word2id.keys())\n",
    "sentence_size = 50\n",
    "\n",
    "batch_size = 256\n",
    "output_dim = 64"
   ]
  },
  {
   "cell_type": "code",
   "execution_count": 22,
   "metadata": {
    "colab": {},
    "colab_type": "code",
    "id": "Nr2ie7IkDbzd"
   },
   "outputs": [],
   "source": [
    "def getData(partialString=\"\"):\n",
    "    partialString = partialString.lower()\n",
    "    x1 = [ word2id[word] if word in word2id.keys() else word2id[\"<unk>\"] for word in partialString.split() ]\n",
    "    # x1.append(word2id[\"<endtoken>\"])\n",
    "    while len(x1) < sentence_size: x1.append(word2id[\"<pad>\"])\n",
    "    x1 = np.array(x1)\n",
    "    return x1\n",
    "\n",
    "def getNextWord(sentence, printing=False):\n",
    "    nw = len(sentence.split()) #from 0 to nw-1\n",
    "    if printing: print(f\"sentence \\\"{sentence}\\\" has {nw} words.\")\n",
    "    x1 = getData(sentence)\n",
    "    #if printing: print(f\"sentence has {x1} representation\")\n",
    "    preds = model.predict( np.array([x1]) )[0] #get predictions for the nwth word\n",
    "    #if printing: print(f\"the whole sentence preds are: {np.argmax(preds, axis=-1)}\")\n",
    "    preds = preds[nw-1] # take next word index from the current word\n",
    "    argmax = np.argmax(preds)\n",
    "    # if printing: print(f\"The word with the highest probability is idx {argmax}\")\n",
    "    prob = preds[argmax]\n",
    "    answer = id2word[argmax]\n",
    "    if printing: print(f\"The 1st most probable word is \\\"{answer}\\\" with prob: {prob}\")\n",
    "    if printing: print(f\"The 2nd most probable word is \\\"{id2word[np.argsort(preds)[-2]]}\\\" with prob: {preds[np.argsort(preds)[-2]]}\")\n",
    "    if printing: print(f\"The 3rd most probable word is \\\"{id2word[np.argsort(preds)[-3]]}\\\" with prob: {preds[np.argsort(preds)[-2]]}\")\n",
    "    if answer == \"<unk>\": answer = id2word[np.argsort(preds)[-2]]\n",
    "    return answer, prob, argmax"
   ]
  },
  {
   "cell_type": "code",
   "execution_count": 24,
   "metadata": {
    "colab": {
     "base_uri": "https://localhost:8080/",
     "height": 34
    },
    "colab_type": "code",
    "executionInfo": {
     "elapsed": 4595,
     "status": "ok",
     "timestamp": 1586463404527,
     "user": {
      "displayName": "Víctor Busqué",
      "photoUrl": "https://lh3.googleusercontent.com/a-/AOh14Gh0qA2yRvq0dyHybmt72SB-pcGUWJt4nDcZn7eKGLc=s64",
      "userId": "15975433531376289761"
     },
     "user_tz": -120
    },
    "id": "9-iO64xeDbzf",
    "outputId": "5c9988bb-1d3e-49e1-90dc-17e3a4d5cd60"
   },
   "outputs": [
    {
     "name": "stdout",
     "output_type": "stream",
     "text": [
      "We got: what is the difference between a chickpea and a garbanzo bean i've never had a garbanzo bean on my face\n"
     ]
    }
   ],
   "source": [
    "txt = \"what is the\"\n",
    "# print(getData(txt))\n",
    "nextWord = \"\"\n",
    "while True:\n",
    "    nextWord,_,_ = getNextWord(txt)\n",
    "    if nextWord == \"<endtoken>\": break\n",
    "    txt += ' ' + nextWord\n",
    "    if len(txt.split())+1 >= sentence_size-1: break\n",
    "print(\"We got: \" + txt)"
   ]
  },
  {
   "cell_type": "code",
   "execution_count": null,
   "metadata": {
    "colab": {},
    "colab_type": "code",
    "id": "u4cBsIHs-igJ"
   },
   "outputs": [],
   "source": []
  }
 ],
 "metadata": {
  "colab": {
   "collapsed_sections": [],
   "name": "processJokes.ipynb",
   "provenance": [],
   "toc_visible": true
  },
  "file_extension": ".py",
  "kernelspec": {
   "display_name": "Python 3",
   "language": "python",
   "name": "python3"
  },
  "language_info": {
   "codemirror_mode": {
    "name": "ipython",
    "version": 3
   },
   "file_extension": ".py",
   "mimetype": "text/x-python",
   "name": "python",
   "nbconvert_exporter": "python",
   "pygments_lexer": "ipython3",
   "version": "3.7.6-final"
  },
  "mimetype": "text/x-python",
  "name": "python",
  "npconvert_exporter": "python",
  "pygments_lexer": "ipython3",
  "version": 3
 },
 "nbformat": 4,
 "nbformat_minor": 1
}